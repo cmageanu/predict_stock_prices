{
 "cells": [
  {
   "cell_type": "code",
   "execution_count": 1,
   "id": "5215a387-4733-4281-861e-322e15da005f",
   "metadata": {},
   "outputs": [],
   "source": [
    "import pandas_datareader as pdr\n",
    "import numpy as np\n",
    "import pandas as pd\n",
    "from datetime import datetime\n",
    "import matplotlib.pyplot as plt\n",
    "import seaborn as sns\n",
    "\n",
    "from sklearn.model_selection import train_test_split\n",
    "\n",
    "from pandas import DataFrame\n",
    "from pandas import concat\n",
    "\n",
    "from sklearn.linear_model import LinearRegression\n",
    "from sklearn.ensemble import RandomForestRegressor\n",
    "from xgboost import XGBRegressor\n",
    "from sklearn.metrics import mean_absolute_error\n",
    "from sklearn.metrics import mean_absolute_percentage_error\n",
    "from sklearn.multioutput import MultiOutputRegressor\n",
    "\n",
    "import pickle\n",
    "from pathlib import Path\n",
    "\n",
    "import random\n",
    "import os\n",
    "\n",
    "from statistics import mean"
   ]
  },
  {
   "cell_type": "markdown",
   "id": "b7a69c1e-6530-4e7d-8d06-9e1305d3d742",
   "metadata": {},
   "source": [
    "# Content\n",
    "#### [Introduction](#introduction)\n",
    "#### [Executive Summary](#executive)\n",
    "#### [Time series prediction approached with tabular regression](#time_series)\n",
    "#### [Dive in. Easy come easy go.](#dive_in)\n",
    "#### [One model or many models?](#one_model)\n",
    "#### [How much lagged data do we need?](#how_much_lagged)\n",
    "#### [How much data do we need?](#how_much_data)\n",
    "#### [Test (almost) all the data](#test_all)\n",
    "#### [Conclusion](#conclusion)\n",
    "#### [External links](#external_links)"
   ]
  },
  {
   "cell_type": "markdown",
   "id": "e765a0bd-df4e-4fea-af88-0532283094de",
   "metadata": {},
   "source": [
    "<a id='introduction'></a>"
   ]
  },
  {
   "cell_type": "markdown",
   "id": "4f07e128-954c-49cd-bf37-77d667f26255",
   "metadata": {},
   "source": [
    "## Introduction\n",
    "\n",
    "This work is part of a Data Science Nanodegree at [Udacity](#itcp). It is an attempt to implement a stock predictor.\n",
    "\n",
    "From the very beginning let's make clear this work has nothing to do with any investment objective. At no time there is any attempt to asses any profit following the predictive model described here. As such, it must be seen just an oportunity to exercise a few data science tools and methods.\n",
    "\n",
    "The proposed objective is to obtain an average relative percentage error of +/- 5% of the actual value for up to 7 days in the future. The predicted value is Adjusted Close.\n",
    "\n",
    "Predicting stock prices is notoriously hard not least because they are known to contain a lot of randomness. [Random Walks](#random_walks) and [Brownian motion](#brownian_motion) have been used to model stock prices - both are techniques modelling random events.\n",
    "\n",
    "Given the above, predicting stock prices seems to be a hard task.\n",
    "\n",
    "On the other hand, long term average stock market return seems to be fairly stable at around 10%, as reported [here](#asr_1) and [here](#asr_2) for example.\n",
    "\n",
    "A 10% growth averaged over about 250 trading days per year, gives us hope that, at least for stable stocks with relatively low volatility, predicting with +/- 5% precision for up to 7 days in the future is achievable. So let's see."
   ]
  },
  {
   "cell_type": "markdown",
   "id": "4e533871-8997-420c-9692-c697dad4dd26",
   "metadata": {},
   "source": [
    "<a id='executive'></a>"
   ]
  },
  {
   "cell_type": "markdown",
   "id": "23463e92-2714-41e7-a35f-cfc76443bf23",
   "metadata": {},
   "source": [
    "## Executive Summary\n",
    "\n",
    "We employ a supervised learning approach where the features of the predicted value, Adjusted Close stock price (AC), are the AC values of the the same stock for the previous days.\n",
    "\n",
    "We find that XGBoost and Random Forest regressors perform worse than a simple Linear regressor, while also taking abot 3 orders of magnitude more time to train a model.\n",
    "\n",
    "We test a Linear regressor with 20 lagged values and find out that it performs on average within the objective +/- 5% relative error margin.\n",
    "\n",
    "For testing we looked at a subset of the Nasdaq stocks with a market valuation of $1bn or more. This subset contains about 34% of the Nasdaq stock symbols, but make over 98% of the total Market Capitalisation of Nasdaq listed companies as of this date (December 2021). From this perspective we tested the predictor practically over the whole market."
   ]
  },
  {
   "cell_type": "markdown",
   "id": "8ae0f270-c3ed-42c8-8b98-ec3d33647522",
   "metadata": {},
   "source": [
    "<a id='time_series'></a>"
   ]
  },
  {
   "cell_type": "markdown",
   "id": "2323f64b-50fe-480b-a80e-721c480bc10d",
   "metadata": {},
   "source": [
    "## Time series prediction approached with tabular regression"
   ]
  },
  {
   "cell_type": "markdown",
   "id": "9a879fa8-c78e-48bf-aa46-c4756c1cefd4",
   "metadata": {},
   "source": [
    "### Source of Data\n",
    "\n",
    "We are using data from [Yahoo Finance](#yfinance) for which there is a python module, pandas_datareader which can extract data programatically for a given stock symbol.\n",
    "\n",
    "First, we'll define a function, get_symbol_data to retrieve the data from Yahoo Finance and store it on disk, if it has not been downloaded today."
   ]
  },
  {
   "cell_type": "code",
   "execution_count": 2,
   "id": "5dec5106-5291-46b1-8fc9-6149e5591d38",
   "metadata": {},
   "outputs": [],
   "source": [
    "def get_yahoo_symbol_data(symbol):\n",
    "    \"\"\"\n",
    "    Retrieves daily trading data from Yahoo Finance. Saves it as file data/symbol.csv, overwriting any existing data.\n",
    "    Arguments:\n",
    "        symbol: string, stock symbol i.e GOOG, TSLA\n",
    "        start_date: start date of the retrieved data set as a datetime object\n",
    "    Returns:\n",
    "        Pandas DataFrame with the following columns: High, Low, Open, Close, Volume, Adj Close\n",
    "        All available data for the respective symbol is retrieved, if any.\n",
    "    \"\"\"    \n",
    "    try:\n",
    "        symbol_data = pdr.get_data_yahoo(symbols=symbol, start=datetime(1900, 1, 1))\n",
    "        # pickle data\n",
    "        pickle.dump(symbol_data, open('data/{0}.pickle'.format(symbol), 'wb'))\n",
    "    except:\n",
    "        print('error encountered on downloading symbol {0}; skipping it'.format(symbol))\n",
    "        symbol_data = None\n",
    "    \n",
    "    return symbol_data"
   ]
  },
  {
   "cell_type": "code",
   "execution_count": 3,
   "id": "f2c0ec43-3606-46d3-9034-2de01f075de1",
   "metadata": {},
   "outputs": [],
   "source": [
    "def get_symbol_data(symbol, start_date='2000-01-01'):\n",
    "    \"\"\"\n",
    "    Retrieves daily trading data from Yahoo Finance. Saves it as file data/symbol.csv.\n",
    "    If data/symbol.csv exists and was created today, then no downloading occurs.\n",
    "    Arguments:\n",
    "        symbol: string, stock symbol i.e GOOG, TSLA\n",
    "        start_date: start date of the retrieved data set, in format YYYY-MM-DD\n",
    "    Returns:\n",
    "        Pandas DataFrame with the following columns: High, Low, Open, Close, Volume, Adj Close\n",
    "        If the symbol data does not extend back in time to start_date, then all available data for the respective symbol is retrieved, if any.\n",
    "    \"\"\"\n",
    "\n",
    "    today = datetime.now().date()\n",
    "    symbol_filename = 'data/{0}.pickle'.format(symbol)\n",
    "       \n",
    "    # if symbol_filename does not exist or is different from today, then download symbol data and save it as data/{symbol}.csv\n",
    "    if not Path(symbol_filename).is_file():\n",
    "        symbol_data = get_yahoo_symbol_data(symbol)\n",
    "    else:\n",
    "        symbol_filedate = datetime.fromtimestamp(os.path.getctime(symbol_filename)).date()\n",
    "        if not symbol_filedate == today:\n",
    "            symbol_data = get_yahoo_symbol_data(symbol)\n",
    "        else:\n",
    "            symbol_data = pickle.load(open(symbol_filename, 'rb'))\n",
    "    \n",
    "    if symbol_data is not None:\n",
    "        symbol_data = symbol_data.loc[start_date:]\n",
    "    \n",
    "    return symbol_data"
   ]
  },
  {
   "cell_type": "markdown",
   "id": "95829ceb-c37b-4a14-bef9-b66932a51be1",
   "metadata": {},
   "source": [
    "Let's pick a symbol, say GOOG and prepare features for the Adjusted Close field as the previous values of the same time series of Adjusted Close values."
   ]
  },
  {
   "cell_type": "code",
   "execution_count": 4,
   "id": "f9d2a425-abc2-45b3-9cb7-45a0f3c29894",
   "metadata": {},
   "outputs": [],
   "source": [
    "symbol = 'GOOG'\n",
    "symbol_data = get_symbol_data(symbol)"
   ]
  },
  {
   "cell_type": "markdown",
   "id": "5cb08db5-a5fe-4791-9f68-cca2089bf804",
   "metadata": {},
   "source": [
    "A hint of short term randomness can be sensed by plotting the Adjusted Close values:"
   ]
  },
  {
   "cell_type": "code",
   "execution_count": 5,
   "id": "9d522943-9586-4bd0-be9b-0b5a89e8bcc8",
   "metadata": {},
   "outputs": [
    {
     "data": {
      "text/plain": [
       "<AxesSubplot:xlabel='Date'>"
      ]
     },
     "execution_count": 5,
     "metadata": {},
     "output_type": "execute_result"
    },
    {
     "data": {
      "image/png": "[encoded data removed]",
      "text/plain": [
       "<Figure size 1152x648 with 1 Axes>"
      ]
     },
     "metadata": {
      "needs_background": "light"
     },
     "output_type": "display_data"
    }
   ],
   "source": [
    "symbol_data['Adj Close'].plot(figsize=(16,9))"
   ]
  },
  {
   "cell_type": "markdown",
   "id": "c299c6b2-bc87-49a3-a295-144aebdbdde6",
   "metadata": {},
   "source": [
    "Plotting the autocorrelation matrix, suggests that only the Volume field may contain additional information. All other fields have a strong correlation with the Adjusted Close field and are likely to not improve a model that would include them as features."
   ]
  },
  {
   "cell_type": "code",
   "execution_count": 6,
   "id": "63af657b-bcae-42c7-afdb-35a8f443d858",
   "metadata": {},
   "outputs": [
    {
     "data": {
      "image/png": "[encoded data removed]",
      "text/plain": [
       "<Figure size 1152x432 with 2 Axes>"
      ]
     },
     "metadata": {
      "needs_background": "light"
     },
     "output_type": "display_data"
    }
   ],
   "source": [
    "fig = plt.gcf()\n",
    "fig.set_size_inches(16,6)\n",
    "sns.heatmap(symbol_data.corr(), annot=True, fmt=\".2f\");"
   ]
  },
  {
   "cell_type": "markdown",
   "id": "397754b3-d23c-4065-a7dc-e33119a15570",
   "metadata": {},
   "source": [
    "Let's rename columns for easier coding:"
   ]
  },
  {
   "cell_type": "code",
   "execution_count": 7,
   "id": "a2f29386-1424-4704-bf27-406a61b453d4",
   "metadata": {},
   "outputs": [],
   "source": [
    "symbol_data = symbol_data.rename(columns={'High':'h', 'Low':'l', 'Open':'o', 'Close':'c', 'Volume':'v', 'Adj Close':'ac'})"
   ]
  },
  {
   "cell_type": "markdown",
   "id": "947d93c5-c934-408d-bb24-c5a14fa5905b",
   "metadata": {},
   "source": [
    "Next we define a function which takes a dataframe as an input and returns a dataframe with additional lagged columns backwards and forwards as specified by the n_in (backward values) and n_out (forward values) parameters. This function is build on a concept described in this [article](#ts_as_supervised_learning)"
   ]
  },
  {
   "cell_type": "code",
   "execution_count": 8,
   "id": "c8347219-33f8-4cd7-bdea-76195609a0ef",
   "metadata": {},
   "outputs": [],
   "source": [
    "def df_to_lagged_features(df, n_in=1, n_out=0, dropnan=True):\n",
    "    \"\"\"\n",
    "    Creates features for a data frame suitable for supervised learning.\n",
    "    Arguments:\n",
    "        df: Pandas dataframe.\n",
    "        n_in: Number of lag observations as input (X).\n",
    "        n_out: Number of observations as output (y).\n",
    "        dropnan: Boolean whether or not to drop rows with NaN values.\n",
    "    Returns:\n",
    "        Pandas DataFrame of series with lagged columns backwards and forwards suitable for supervised learning.\n",
    "    \"\"\"\n",
    "\n",
    "    lagged_columns, lagged_column_names = list(), list()\n",
    "    df_column_names = df.columns\n",
    "\t# input sequence (t-n, ... t-1)\n",
    "    for i in range(n_in, 0, -1):\n",
    "        lagged_columns.append(df.shift(i))\n",
    "        lagged_column_names += [('%s(t-%d)' % (column_name, i)) for column_name in df_column_names]\n",
    "\n",
    "    # add current value (moment t)\n",
    "    lagged_column_names += [ '%s(t)' % (column_name) for column_name in df_column_names]\n",
    "    lagged_columns.append(df)\n",
    "    \n",
    "    # future moments if any (t+1, ... t+n)\n",
    "    if n_out >= 1:\n",
    "        for i in range(1, n_out+1):\n",
    "            lagged_columns.append(df.shift(-i))\n",
    "            lagged_column_names += [('%s(t+%d)' % (column_name, i)) for column_name in df_column_names]\n",
    "    \n",
    "    # put it all together\n",
    "    agg = concat(lagged_columns, axis=1)\n",
    "    agg.columns = lagged_column_names\n",
    "    # drop rows with NaN values\n",
    "    if dropnan:\n",
    "        agg.dropna(inplace=True)\n",
    "    return agg"
   ]
  },
  {
   "cell_type": "markdown",
   "id": "aa87d56a-d0ae-4e6c-9d80-8aa3fb6c6af4",
   "metadata": {},
   "source": [
    "Let's create features as shifted 'ac' column. How many lagged values should we choose is not an exact science. We mainly look at 7 predicted values in the future, so we may want to choose a multiple of this number as the number of past values to learn from, in the hope that we will catch and short term trend. Thus, we'll choose n_in=30 and n_out=7 for the moment:"
   ]
  },
  {
   "cell_type": "code",
   "execution_count": 9,
   "id": "aa0e5514-41d2-48a6-8848-c02835457fa7",
   "metadata": {},
   "outputs": [],
   "source": [
    "symbol_lag = df_to_lagged_features(symbol_data.loc[:, ['ac']], n_in=30, n_out=7)"
   ]
  },
  {
   "cell_type": "code",
   "execution_count": 10,
   "id": "a1e75fbd-30dc-4ca9-96c6-214019e59d5f",
   "metadata": {},
   "outputs": [
    {
     "data": {
      "text/html": [
       "<div>\n",
       "<style scoped>\n",
       "    .dataframe tbody tr th:only-of-type {\n",
       "        vertical-align: middle;\n",
       "    }\n",
       "\n",
       "    .dataframe tbody tr th {\n",
       "        vertical-align: top;\n",
       "    }\n",
       "\n",
       "    .dataframe thead th {\n",
       "        text-align: right;\n",
       "    }\n",
       "</style>\n",
       "<table border=\"1\" class=\"dataframe\">\n",
       "  <thead>\n",
       "    <tr style=\"text-align: right;\">\n",
       "      <th></th>\n",
       "      <th>ac(t-30)</th>\n",
       "      <th>ac(t-29)</th>\n",
       "      <th>ac(t-28)</th>\n",
       "      <th>ac(t-27)</th>\n",
       "      <th>ac(t-26)</th>\n",
       "      <th>ac(t-25)</th>\n",
       "      <th>ac(t-24)</th>\n",
       "      <th>ac(t-23)</th>\n",
       "      <th>ac(t-22)</th>\n",
       "      <th>ac(t-21)</th>\n",
       "      <th>...</th>\n",
       "      <th>ac(t-2)</th>\n",
       "      <th>ac(t-1)</th>\n",
       "      <th>ac(t)</th>\n",
       "      <th>ac(t+1)</th>\n",
       "      <th>ac(t+2)</th>\n",
       "      <th>ac(t+3)</th>\n",
       "      <th>ac(t+4)</th>\n",
       "      <th>ac(t+5)</th>\n",
       "      <th>ac(t+6)</th>\n",
       "      <th>ac(t+7)</th>\n",
       "    </tr>\n",
       "    <tr>\n",
       "      <th>Date</th>\n",
       "      <th></th>\n",
       "      <th></th>\n",
       "      <th></th>\n",
       "      <th></th>\n",
       "      <th></th>\n",
       "      <th></th>\n",
       "      <th></th>\n",
       "      <th></th>\n",
       "      <th></th>\n",
       "      <th></th>\n",
       "      <th></th>\n",
       "      <th></th>\n",
       "      <th></th>\n",
       "      <th></th>\n",
       "      <th></th>\n",
       "      <th></th>\n",
       "      <th></th>\n",
       "      <th></th>\n",
       "      <th></th>\n",
       "      <th></th>\n",
       "      <th></th>\n",
       "    </tr>\n",
       "  </thead>\n",
       "  <tbody>\n",
       "    <tr>\n",
       "      <th>2004-10-01</th>\n",
       "      <td>49.982655</td>\n",
       "      <td>53.952770</td>\n",
       "      <td>54.495735</td>\n",
       "      <td>52.239197</td>\n",
       "      <td>52.802086</td>\n",
       "      <td>53.753517</td>\n",
       "      <td>52.876804</td>\n",
       "      <td>50.814533</td>\n",
       "      <td>50.993862</td>\n",
       "      <td>49.937820</td>\n",
       "      <td>...</td>\n",
       "      <td>65.295258</td>\n",
       "      <td>64.558022</td>\n",
       "      <td>66.042458</td>\n",
       "      <td>67.277824</td>\n",
       "      <td>68.926643</td>\n",
       "      <td>68.284058</td>\n",
       "      <td>69.165749</td>\n",
       "      <td>68.607841</td>\n",
       "      <td>67.377457</td>\n",
       "      <td>68.443459</td>\n",
       "    </tr>\n",
       "    <tr>\n",
       "      <th>2004-10-04</th>\n",
       "      <td>53.952770</td>\n",
       "      <td>54.495735</td>\n",
       "      <td>52.239197</td>\n",
       "      <td>52.802086</td>\n",
       "      <td>53.753517</td>\n",
       "      <td>52.876804</td>\n",
       "      <td>50.814533</td>\n",
       "      <td>50.993862</td>\n",
       "      <td>49.937820</td>\n",
       "      <td>50.565468</td>\n",
       "      <td>...</td>\n",
       "      <td>64.558022</td>\n",
       "      <td>66.042458</td>\n",
       "      <td>67.277824</td>\n",
       "      <td>68.926643</td>\n",
       "      <td>68.284058</td>\n",
       "      <td>69.165749</td>\n",
       "      <td>68.607841</td>\n",
       "      <td>67.377457</td>\n",
       "      <td>68.443459</td>\n",
       "      <td>70.186920</td>\n",
       "    </tr>\n",
       "    <tr>\n",
       "      <th>2004-10-05</th>\n",
       "      <td>54.495735</td>\n",
       "      <td>52.239197</td>\n",
       "      <td>52.802086</td>\n",
       "      <td>53.753517</td>\n",
       "      <td>52.876804</td>\n",
       "      <td>50.814533</td>\n",
       "      <td>50.993862</td>\n",
       "      <td>49.937820</td>\n",
       "      <td>50.565468</td>\n",
       "      <td>49.818268</td>\n",
       "      <td>...</td>\n",
       "      <td>66.042458</td>\n",
       "      <td>67.277824</td>\n",
       "      <td>68.926643</td>\n",
       "      <td>68.284058</td>\n",
       "      <td>69.165749</td>\n",
       "      <td>68.607841</td>\n",
       "      <td>67.377457</td>\n",
       "      <td>68.443459</td>\n",
       "      <td>70.186920</td>\n",
       "      <td>70.734871</td>\n",
       "    </tr>\n",
       "    <tr>\n",
       "      <th>2004-10-06</th>\n",
       "      <td>52.239197</td>\n",
       "      <td>52.802086</td>\n",
       "      <td>53.753517</td>\n",
       "      <td>52.876804</td>\n",
       "      <td>50.814533</td>\n",
       "      <td>50.993862</td>\n",
       "      <td>49.937820</td>\n",
       "      <td>50.565468</td>\n",
       "      <td>49.818268</td>\n",
       "      <td>50.600338</td>\n",
       "      <td>...</td>\n",
       "      <td>67.277824</td>\n",
       "      <td>68.926643</td>\n",
       "      <td>68.284058</td>\n",
       "      <td>69.165749</td>\n",
       "      <td>68.607841</td>\n",
       "      <td>67.377457</td>\n",
       "      <td>68.443459</td>\n",
       "      <td>70.186920</td>\n",
       "      <td>70.734871</td>\n",
       "      <td>71.785927</td>\n",
       "    </tr>\n",
       "    <tr>\n",
       "      <th>2004-10-07</th>\n",
       "      <td>52.802086</td>\n",
       "      <td>53.753517</td>\n",
       "      <td>52.876804</td>\n",
       "      <td>50.814533</td>\n",
       "      <td>50.993862</td>\n",
       "      <td>49.937820</td>\n",
       "      <td>50.565468</td>\n",
       "      <td>49.818268</td>\n",
       "      <td>50.600338</td>\n",
       "      <td>50.958992</td>\n",
       "      <td>...</td>\n",
       "      <td>68.926643</td>\n",
       "      <td>68.284058</td>\n",
       "      <td>69.165749</td>\n",
       "      <td>68.607841</td>\n",
       "      <td>67.377457</td>\n",
       "      <td>68.443459</td>\n",
       "      <td>70.186920</td>\n",
       "      <td>70.734871</td>\n",
       "      <td>71.785927</td>\n",
       "      <td>74.301498</td>\n",
       "    </tr>\n",
       "    <tr>\n",
       "      <th>...</th>\n",
       "      <td>...</td>\n",
       "      <td>...</td>\n",
       "      <td>...</td>\n",
       "      <td>...</td>\n",
       "      <td>...</td>\n",
       "      <td>...</td>\n",
       "      <td>...</td>\n",
       "      <td>...</td>\n",
       "      <td>...</td>\n",
       "      <td>...</td>\n",
       "      <td>...</td>\n",
       "      <td>...</td>\n",
       "      <td>...</td>\n",
       "      <td>...</td>\n",
       "      <td>...</td>\n",
       "      <td>...</td>\n",
       "      <td>...</td>\n",
       "      <td>...</td>\n",
       "      <td>...</td>\n",
       "      <td>...</td>\n",
       "      <td>...</td>\n",
       "    </tr>\n",
       "    <tr>\n",
       "      <th>2021-12-09</th>\n",
       "      <td>2928.550049</td>\n",
       "      <td>2922.580078</td>\n",
       "      <td>2965.409912</td>\n",
       "      <td>2875.479980</td>\n",
       "      <td>2917.260010</td>\n",
       "      <td>2935.800049</td>\n",
       "      <td>2973.659912</td>\n",
       "      <td>2984.820068</td>\n",
       "      <td>2987.030029</td>\n",
       "      <td>2984.969971</td>\n",
       "      <td>...</td>\n",
       "      <td>2960.729980</td>\n",
       "      <td>2974.409912</td>\n",
       "      <td>2962.120117</td>\n",
       "      <td>2973.500000</td>\n",
       "      <td>2934.090088</td>\n",
       "      <td>2899.409912</td>\n",
       "      <td>2947.370117</td>\n",
       "      <td>2896.770020</td>\n",
       "      <td>2856.060059</td>\n",
       "      <td>2848.030029</td>\n",
       "    </tr>\n",
       "    <tr>\n",
       "      <th>2021-12-10</th>\n",
       "      <td>2922.580078</td>\n",
       "      <td>2965.409912</td>\n",
       "      <td>2875.479980</td>\n",
       "      <td>2917.260010</td>\n",
       "      <td>2935.800049</td>\n",
       "      <td>2973.659912</td>\n",
       "      <td>2984.820068</td>\n",
       "      <td>2987.030029</td>\n",
       "      <td>2984.969971</td>\n",
       "      <td>2932.520020</td>\n",
       "      <td>...</td>\n",
       "      <td>2974.409912</td>\n",
       "      <td>2962.120117</td>\n",
       "      <td>2973.500000</td>\n",
       "      <td>2934.090088</td>\n",
       "      <td>2899.409912</td>\n",
       "      <td>2947.370117</td>\n",
       "      <td>2896.770020</td>\n",
       "      <td>2856.060059</td>\n",
       "      <td>2848.030029</td>\n",
       "      <td>2884.409912</td>\n",
       "    </tr>\n",
       "    <tr>\n",
       "      <th>2021-12-13</th>\n",
       "      <td>2965.409912</td>\n",
       "      <td>2875.479980</td>\n",
       "      <td>2917.260010</td>\n",
       "      <td>2935.800049</td>\n",
       "      <td>2973.659912</td>\n",
       "      <td>2984.820068</td>\n",
       "      <td>2987.030029</td>\n",
       "      <td>2984.969971</td>\n",
       "      <td>2932.520020</td>\n",
       "      <td>2934.959961</td>\n",
       "      <td>...</td>\n",
       "      <td>2962.120117</td>\n",
       "      <td>2973.500000</td>\n",
       "      <td>2934.090088</td>\n",
       "      <td>2899.409912</td>\n",
       "      <td>2947.370117</td>\n",
       "      <td>2896.770020</td>\n",
       "      <td>2856.060059</td>\n",
       "      <td>2848.030029</td>\n",
       "      <td>2884.409912</td>\n",
       "      <td>2938.979980</td>\n",
       "    </tr>\n",
       "    <tr>\n",
       "      <th>2021-12-14</th>\n",
       "      <td>2875.479980</td>\n",
       "      <td>2917.260010</td>\n",
       "      <td>2935.800049</td>\n",
       "      <td>2973.659912</td>\n",
       "      <td>2984.820068</td>\n",
       "      <td>2987.030029</td>\n",
       "      <td>2984.969971</td>\n",
       "      <td>2932.520020</td>\n",
       "      <td>2934.959961</td>\n",
       "      <td>2992.909912</td>\n",
       "      <td>...</td>\n",
       "      <td>2973.500000</td>\n",
       "      <td>2934.090088</td>\n",
       "      <td>2899.409912</td>\n",
       "      <td>2947.370117</td>\n",
       "      <td>2896.770020</td>\n",
       "      <td>2856.060059</td>\n",
       "      <td>2848.030029</td>\n",
       "      <td>2884.409912</td>\n",
       "      <td>2938.979980</td>\n",
       "      <td>2942.850098</td>\n",
       "    </tr>\n",
       "    <tr>\n",
       "      <th>2021-12-15</th>\n",
       "      <td>2917.260010</td>\n",
       "      <td>2935.800049</td>\n",
       "      <td>2973.659912</td>\n",
       "      <td>2984.820068</td>\n",
       "      <td>2987.030029</td>\n",
       "      <td>2984.969971</td>\n",
       "      <td>2932.520020</td>\n",
       "      <td>2934.959961</td>\n",
       "      <td>2992.909912</td>\n",
       "      <td>2987.760010</td>\n",
       "      <td>...</td>\n",
       "      <td>2934.090088</td>\n",
       "      <td>2899.409912</td>\n",
       "      <td>2947.370117</td>\n",
       "      <td>2896.770020</td>\n",
       "      <td>2856.060059</td>\n",
       "      <td>2848.030029</td>\n",
       "      <td>2884.409912</td>\n",
       "      <td>2938.979980</td>\n",
       "      <td>2942.850098</td>\n",
       "      <td>2961.280029</td>\n",
       "    </tr>\n",
       "  </tbody>\n",
       "</table>\n",
       "<p>4333 rows × 38 columns</p>\n",
       "</div>"
      ],
      "text/plain": [
       "               ac(t-30)     ac(t-29)     ac(t-28)     ac(t-27)     ac(t-26)  \\\n",
       "Date                                                                          \n",
       "2004-10-01    49.982655    53.952770    54.495735    52.239197    52.802086   \n",
       "2004-10-04    53.952770    54.495735    52.239197    52.802086    53.753517   \n",
       "2004-10-05    54.495735    52.239197    52.802086    53.753517    52.876804   \n",
       "2004-10-06    52.239197    52.802086    53.753517    52.876804    50.814533   \n",
       "2004-10-07    52.802086    53.753517    52.876804    50.814533    50.993862   \n",
       "...                 ...          ...          ...          ...          ...   \n",
       "2021-12-09  2928.550049  2922.580078  2965.409912  2875.479980  2917.260010   \n",
       "2021-12-10  2922.580078  2965.409912  2875.479980  2917.260010  2935.800049   \n",
       "2021-12-13  2965.409912  2875.479980  2917.260010  2935.800049  2973.659912   \n",
       "2021-12-14  2875.479980  2917.260010  2935.800049  2973.659912  2984.820068   \n",
       "2021-12-15  2917.260010  2935.800049  2973.659912  2984.820068  2987.030029   \n",
       "\n",
       "               ac(t-25)     ac(t-24)     ac(t-23)     ac(t-22)     ac(t-21)  \\\n",
       "Date                                                                          \n",
       "2004-10-01    53.753517    52.876804    50.814533    50.993862    49.937820   \n",
       "2004-10-04    52.876804    50.814533    50.993862    49.937820    50.565468   \n",
       "2004-10-05    50.814533    50.993862    49.937820    50.565468    49.818268   \n",
       "2004-10-06    50.993862    49.937820    50.565468    49.818268    50.600338   \n",
       "2004-10-07    49.937820    50.565468    49.818268    50.600338    50.958992   \n",
       "...                 ...          ...          ...          ...          ...   \n",
       "2021-12-09  2935.800049  2973.659912  2984.820068  2987.030029  2984.969971   \n",
       "2021-12-10  2973.659912  2984.820068  2987.030029  2984.969971  2932.520020   \n",
       "2021-12-13  2984.820068  2987.030029  2984.969971  2932.520020  2934.959961   \n",
       "2021-12-14  2987.030029  2984.969971  2932.520020  2934.959961  2992.909912   \n",
       "2021-12-15  2984.969971  2932.520020  2934.959961  2992.909912  2987.760010   \n",
       "\n",
       "            ...      ac(t-2)      ac(t-1)        ac(t)      ac(t+1)  \\\n",
       "Date        ...                                                       \n",
       "2004-10-01  ...    65.295258    64.558022    66.042458    67.277824   \n",
       "2004-10-04  ...    64.558022    66.042458    67.277824    68.926643   \n",
       "2004-10-05  ...    66.042458    67.277824    68.926643    68.284058   \n",
       "2004-10-06  ...    67.277824    68.926643    68.284058    69.165749   \n",
       "2004-10-07  ...    68.926643    68.284058    69.165749    68.607841   \n",
       "...         ...          ...          ...          ...          ...   \n",
       "2021-12-09  ...  2960.729980  2974.409912  2962.120117  2973.500000   \n",
       "2021-12-10  ...  2974.409912  2962.120117  2973.500000  2934.090088   \n",
       "2021-12-13  ...  2962.120117  2973.500000  2934.090088  2899.409912   \n",
       "2021-12-14  ...  2973.500000  2934.090088  2899.409912  2947.370117   \n",
       "2021-12-15  ...  2934.090088  2899.409912  2947.370117  2896.770020   \n",
       "\n",
       "                ac(t+2)      ac(t+3)      ac(t+4)      ac(t+5)      ac(t+6)  \\\n",
       "Date                                                                          \n",
       "2004-10-01    68.926643    68.284058    69.165749    68.607841    67.377457   \n",
       "2004-10-04    68.284058    69.165749    68.607841    67.377457    68.443459   \n",
       "2004-10-05    69.165749    68.607841    67.377457    68.443459    70.186920   \n",
       "2004-10-06    68.607841    67.377457    68.443459    70.186920    70.734871   \n",
       "2004-10-07    67.377457    68.443459    70.186920    70.734871    71.785927   \n",
       "...                 ...          ...          ...          ...          ...   \n",
       "2021-12-09  2934.090088  2899.409912  2947.370117  2896.770020  2856.060059   \n",
       "2021-12-10  2899.409912  2947.370117  2896.770020  2856.060059  2848.030029   \n",
       "2021-12-13  2947.370117  2896.770020  2856.060059  2848.030029  2884.409912   \n",
       "2021-12-14  2896.770020  2856.060059  2848.030029  2884.409912  2938.979980   \n",
       "2021-12-15  2856.060059  2848.030029  2884.409912  2938.979980  2942.850098   \n",
       "\n",
       "                ac(t+7)  \n",
       "Date                     \n",
       "2004-10-01    68.443459  \n",
       "2004-10-04    70.186920  \n",
       "2004-10-05    70.734871  \n",
       "2004-10-06    71.785927  \n",
       "2004-10-07    74.301498  \n",
       "...                 ...  \n",
       "2021-12-09  2848.030029  \n",
       "2021-12-10  2884.409912  \n",
       "2021-12-13  2938.979980  \n",
       "2021-12-14  2942.850098  \n",
       "2021-12-15  2961.280029  \n",
       "\n",
       "[4333 rows x 38 columns]"
      ]
     },
     "execution_count": 10,
     "metadata": {},
     "output_type": "execute_result"
    }
   ],
   "source": [
    "symbol_lag"
   ]
  },
  {
   "cell_type": "markdown",
   "id": "30c0758b-594d-4288-94f5-f5681b169504",
   "metadata": {},
   "source": [
    "Let's now prepare y and X, the predicted values and the input for any model respectively.\n",
    "\n",
    "y would be the 7 values of the 'ac' column ac(t+1)..ac(t+7)\n",
    "\n",
    "X would be all other columns from ac(t-30) until ac(t)"
   ]
  },
  {
   "cell_type": "code",
   "execution_count": 11,
   "id": "78902034-8d84-476a-bcea-dc7c0f8f6955",
   "metadata": {},
   "outputs": [],
   "source": [
    "n_out = 7\n",
    "y_columns = [ 'ac(t+{0})'.format(i) for i in range(1, n_out+1) ]\n",
    "X = symbol_lag.drop(y_columns, axis=1)\n",
    "y = symbol_lag.drop(X.columns, 1)"
   ]
  },
  {
   "cell_type": "code",
   "execution_count": 12,
   "id": "28dd9110-2ea7-44d1-a1b4-6d52e3f457ae",
   "metadata": {},
   "outputs": [
    {
     "data": {
      "text/html": [
       "<div>\n",
       "<style scoped>\n",
       "    .dataframe tbody tr th:only-of-type {\n",
       "        vertical-align: middle;\n",
       "    }\n",
       "\n",
       "    .dataframe tbody tr th {\n",
       "        vertical-align: top;\n",
       "    }\n",
       "\n",
       "    .dataframe thead th {\n",
       "        text-align: right;\n",
       "    }\n",
       "</style>\n",
       "<table border=\"1\" class=\"dataframe\">\n",
       "  <thead>\n",
       "    <tr style=\"text-align: right;\">\n",
       "      <th></th>\n",
       "      <th>ac(t+1)</th>\n",
       "      <th>ac(t+2)</th>\n",
       "      <th>ac(t+3)</th>\n",
       "      <th>ac(t+4)</th>\n",
       "      <th>ac(t+5)</th>\n",
       "      <th>ac(t+6)</th>\n",
       "      <th>ac(t+7)</th>\n",
       "    </tr>\n",
       "    <tr>\n",
       "      <th>Date</th>\n",
       "      <th></th>\n",
       "      <th></th>\n",
       "      <th></th>\n",
       "      <th></th>\n",
       "      <th></th>\n",
       "      <th></th>\n",
       "      <th></th>\n",
       "    </tr>\n",
       "  </thead>\n",
       "  <tbody>\n",
       "    <tr>\n",
       "      <th>2004-10-01</th>\n",
       "      <td>67.277824</td>\n",
       "      <td>68.926643</td>\n",
       "      <td>68.284058</td>\n",
       "      <td>69.165749</td>\n",
       "      <td>68.607841</td>\n",
       "      <td>67.377457</td>\n",
       "      <td>68.443459</td>\n",
       "    </tr>\n",
       "    <tr>\n",
       "      <th>2004-10-04</th>\n",
       "      <td>68.926643</td>\n",
       "      <td>68.284058</td>\n",
       "      <td>69.165749</td>\n",
       "      <td>68.607841</td>\n",
       "      <td>67.377457</td>\n",
       "      <td>68.443459</td>\n",
       "      <td>70.186920</td>\n",
       "    </tr>\n",
       "    <tr>\n",
       "      <th>2004-10-05</th>\n",
       "      <td>68.284058</td>\n",
       "      <td>69.165749</td>\n",
       "      <td>68.607841</td>\n",
       "      <td>67.377457</td>\n",
       "      <td>68.443459</td>\n",
       "      <td>70.186920</td>\n",
       "      <td>70.734871</td>\n",
       "    </tr>\n",
       "    <tr>\n",
       "      <th>2004-10-06</th>\n",
       "      <td>69.165749</td>\n",
       "      <td>68.607841</td>\n",
       "      <td>67.377457</td>\n",
       "      <td>68.443459</td>\n",
       "      <td>70.186920</td>\n",
       "      <td>70.734871</td>\n",
       "      <td>71.785927</td>\n",
       "    </tr>\n",
       "    <tr>\n",
       "      <th>2004-10-07</th>\n",
       "      <td>68.607841</td>\n",
       "      <td>67.377457</td>\n",
       "      <td>68.443459</td>\n",
       "      <td>70.186920</td>\n",
       "      <td>70.734871</td>\n",
       "      <td>71.785927</td>\n",
       "      <td>74.301498</td>\n",
       "    </tr>\n",
       "  </tbody>\n",
       "</table>\n",
       "</div>"
      ],
      "text/plain": [
       "              ac(t+1)    ac(t+2)    ac(t+3)    ac(t+4)    ac(t+5)    ac(t+6)  \\\n",
       "Date                                                                           \n",
       "2004-10-01  67.277824  68.926643  68.284058  69.165749  68.607841  67.377457   \n",
       "2004-10-04  68.926643  68.284058  69.165749  68.607841  67.377457  68.443459   \n",
       "2004-10-05  68.284058  69.165749  68.607841  67.377457  68.443459  70.186920   \n",
       "2004-10-06  69.165749  68.607841  67.377457  68.443459  70.186920  70.734871   \n",
       "2004-10-07  68.607841  67.377457  68.443459  70.186920  70.734871  71.785927   \n",
       "\n",
       "              ac(t+7)  \n",
       "Date                   \n",
       "2004-10-01  68.443459  \n",
       "2004-10-04  70.186920  \n",
       "2004-10-05  70.734871  \n",
       "2004-10-06  71.785927  \n",
       "2004-10-07  74.301498  "
      ]
     },
     "execution_count": 12,
     "metadata": {},
     "output_type": "execute_result"
    }
   ],
   "source": [
    "y.head()"
   ]
  },
  {
   "cell_type": "code",
   "execution_count": 13,
   "id": "77bb40bc-0af9-4355-8e69-ae52fc6b86c3",
   "metadata": {},
   "outputs": [
    {
     "data": {
      "text/html": [
       "<div>\n",
       "<style scoped>\n",
       "    .dataframe tbody tr th:only-of-type {\n",
       "        vertical-align: middle;\n",
       "    }\n",
       "\n",
       "    .dataframe tbody tr th {\n",
       "        vertical-align: top;\n",
       "    }\n",
       "\n",
       "    .dataframe thead th {\n",
       "        text-align: right;\n",
       "    }\n",
       "</style>\n",
       "<table border=\"1\" class=\"dataframe\">\n",
       "  <thead>\n",
       "    <tr style=\"text-align: right;\">\n",
       "      <th></th>\n",
       "      <th>ac(t-30)</th>\n",
       "      <th>ac(t-29)</th>\n",
       "      <th>ac(t-28)</th>\n",
       "      <th>ac(t-27)</th>\n",
       "      <th>ac(t-26)</th>\n",
       "      <th>ac(t-25)</th>\n",
       "      <th>ac(t-24)</th>\n",
       "      <th>ac(t-23)</th>\n",
       "      <th>ac(t-22)</th>\n",
       "      <th>ac(t-21)</th>\n",
       "      <th>...</th>\n",
       "      <th>ac(t-9)</th>\n",
       "      <th>ac(t-8)</th>\n",
       "      <th>ac(t-7)</th>\n",
       "      <th>ac(t-6)</th>\n",
       "      <th>ac(t-5)</th>\n",
       "      <th>ac(t-4)</th>\n",
       "      <th>ac(t-3)</th>\n",
       "      <th>ac(t-2)</th>\n",
       "      <th>ac(t-1)</th>\n",
       "      <th>ac(t)</th>\n",
       "    </tr>\n",
       "    <tr>\n",
       "      <th>Date</th>\n",
       "      <th></th>\n",
       "      <th></th>\n",
       "      <th></th>\n",
       "      <th></th>\n",
       "      <th></th>\n",
       "      <th></th>\n",
       "      <th></th>\n",
       "      <th></th>\n",
       "      <th></th>\n",
       "      <th></th>\n",
       "      <th></th>\n",
       "      <th></th>\n",
       "      <th></th>\n",
       "      <th></th>\n",
       "      <th></th>\n",
       "      <th></th>\n",
       "      <th></th>\n",
       "      <th></th>\n",
       "      <th></th>\n",
       "      <th></th>\n",
       "      <th></th>\n",
       "    </tr>\n",
       "  </thead>\n",
       "  <tbody>\n",
       "    <tr>\n",
       "      <th>2004-10-01</th>\n",
       "      <td>49.982655</td>\n",
       "      <td>53.952770</td>\n",
       "      <td>54.495735</td>\n",
       "      <td>52.239197</td>\n",
       "      <td>52.802086</td>\n",
       "      <td>53.753517</td>\n",
       "      <td>52.876804</td>\n",
       "      <td>50.814533</td>\n",
       "      <td>50.993862</td>\n",
       "      <td>49.937820</td>\n",
       "      <td>...</td>\n",
       "      <td>59.457142</td>\n",
       "      <td>58.699978</td>\n",
       "      <td>58.968971</td>\n",
       "      <td>60.184414</td>\n",
       "      <td>59.691261</td>\n",
       "      <td>58.909195</td>\n",
       "      <td>63.193138</td>\n",
       "      <td>65.295258</td>\n",
       "      <td>64.558022</td>\n",
       "      <td>66.042458</td>\n",
       "    </tr>\n",
       "    <tr>\n",
       "      <th>2004-10-04</th>\n",
       "      <td>53.952770</td>\n",
       "      <td>54.495735</td>\n",
       "      <td>52.239197</td>\n",
       "      <td>52.802086</td>\n",
       "      <td>53.753517</td>\n",
       "      <td>52.876804</td>\n",
       "      <td>50.814533</td>\n",
       "      <td>50.993862</td>\n",
       "      <td>49.937820</td>\n",
       "      <td>50.565468</td>\n",
       "      <td>...</td>\n",
       "      <td>58.699978</td>\n",
       "      <td>58.968971</td>\n",
       "      <td>60.184414</td>\n",
       "      <td>59.691261</td>\n",
       "      <td>58.909195</td>\n",
       "      <td>63.193138</td>\n",
       "      <td>65.295258</td>\n",
       "      <td>64.558022</td>\n",
       "      <td>66.042458</td>\n",
       "      <td>67.277824</td>\n",
       "    </tr>\n",
       "    <tr>\n",
       "      <th>2004-10-05</th>\n",
       "      <td>54.495735</td>\n",
       "      <td>52.239197</td>\n",
       "      <td>52.802086</td>\n",
       "      <td>53.753517</td>\n",
       "      <td>52.876804</td>\n",
       "      <td>50.814533</td>\n",
       "      <td>50.993862</td>\n",
       "      <td>49.937820</td>\n",
       "      <td>50.565468</td>\n",
       "      <td>49.818268</td>\n",
       "      <td>...</td>\n",
       "      <td>58.968971</td>\n",
       "      <td>60.184414</td>\n",
       "      <td>59.691261</td>\n",
       "      <td>58.909195</td>\n",
       "      <td>63.193138</td>\n",
       "      <td>65.295258</td>\n",
       "      <td>64.558022</td>\n",
       "      <td>66.042458</td>\n",
       "      <td>67.277824</td>\n",
       "      <td>68.926643</td>\n",
       "    </tr>\n",
       "    <tr>\n",
       "      <th>2004-10-06</th>\n",
       "      <td>52.239197</td>\n",
       "      <td>52.802086</td>\n",
       "      <td>53.753517</td>\n",
       "      <td>52.876804</td>\n",
       "      <td>50.814533</td>\n",
       "      <td>50.993862</td>\n",
       "      <td>49.937820</td>\n",
       "      <td>50.565468</td>\n",
       "      <td>49.818268</td>\n",
       "      <td>50.600338</td>\n",
       "      <td>...</td>\n",
       "      <td>60.184414</td>\n",
       "      <td>59.691261</td>\n",
       "      <td>58.909195</td>\n",
       "      <td>63.193138</td>\n",
       "      <td>65.295258</td>\n",
       "      <td>64.558022</td>\n",
       "      <td>66.042458</td>\n",
       "      <td>67.277824</td>\n",
       "      <td>68.926643</td>\n",
       "      <td>68.284058</td>\n",
       "    </tr>\n",
       "    <tr>\n",
       "      <th>2004-10-07</th>\n",
       "      <td>52.802086</td>\n",
       "      <td>53.753517</td>\n",
       "      <td>52.876804</td>\n",
       "      <td>50.814533</td>\n",
       "      <td>50.993862</td>\n",
       "      <td>49.937820</td>\n",
       "      <td>50.565468</td>\n",
       "      <td>49.818268</td>\n",
       "      <td>50.600338</td>\n",
       "      <td>50.958992</td>\n",
       "      <td>...</td>\n",
       "      <td>59.691261</td>\n",
       "      <td>58.909195</td>\n",
       "      <td>63.193138</td>\n",
       "      <td>65.295258</td>\n",
       "      <td>64.558022</td>\n",
       "      <td>66.042458</td>\n",
       "      <td>67.277824</td>\n",
       "      <td>68.926643</td>\n",
       "      <td>68.284058</td>\n",
       "      <td>69.165749</td>\n",
       "    </tr>\n",
       "  </tbody>\n",
       "</table>\n",
       "<p>5 rows × 31 columns</p>\n",
       "</div>"
      ],
      "text/plain": [
       "             ac(t-30)   ac(t-29)   ac(t-28)   ac(t-27)   ac(t-26)   ac(t-25)  \\\n",
       "Date                                                                           \n",
       "2004-10-01  49.982655  53.952770  54.495735  52.239197  52.802086  53.753517   \n",
       "2004-10-04  53.952770  54.495735  52.239197  52.802086  53.753517  52.876804   \n",
       "2004-10-05  54.495735  52.239197  52.802086  53.753517  52.876804  50.814533   \n",
       "2004-10-06  52.239197  52.802086  53.753517  52.876804  50.814533  50.993862   \n",
       "2004-10-07  52.802086  53.753517  52.876804  50.814533  50.993862  49.937820   \n",
       "\n",
       "             ac(t-24)   ac(t-23)   ac(t-22)   ac(t-21)  ...    ac(t-9)  \\\n",
       "Date                                                    ...              \n",
       "2004-10-01  52.876804  50.814533  50.993862  49.937820  ...  59.457142   \n",
       "2004-10-04  50.814533  50.993862  49.937820  50.565468  ...  58.699978   \n",
       "2004-10-05  50.993862  49.937820  50.565468  49.818268  ...  58.968971   \n",
       "2004-10-06  49.937820  50.565468  49.818268  50.600338  ...  60.184414   \n",
       "2004-10-07  50.565468  49.818268  50.600338  50.958992  ...  59.691261   \n",
       "\n",
       "              ac(t-8)    ac(t-7)    ac(t-6)    ac(t-5)    ac(t-4)    ac(t-3)  \\\n",
       "Date                                                                           \n",
       "2004-10-01  58.699978  58.968971  60.184414  59.691261  58.909195  63.193138   \n",
       "2004-10-04  58.968971  60.184414  59.691261  58.909195  63.193138  65.295258   \n",
       "2004-10-05  60.184414  59.691261  58.909195  63.193138  65.295258  64.558022   \n",
       "2004-10-06  59.691261  58.909195  63.193138  65.295258  64.558022  66.042458   \n",
       "2004-10-07  58.909195  63.193138  65.295258  64.558022  66.042458  67.277824   \n",
       "\n",
       "              ac(t-2)    ac(t-1)      ac(t)  \n",
       "Date                                         \n",
       "2004-10-01  65.295258  64.558022  66.042458  \n",
       "2004-10-04  64.558022  66.042458  67.277824  \n",
       "2004-10-05  66.042458  67.277824  68.926643  \n",
       "2004-10-06  67.277824  68.926643  68.284058  \n",
       "2004-10-07  68.926643  68.284058  69.165749  \n",
       "\n",
       "[5 rows x 31 columns]"
      ]
     },
     "execution_count": 13,
     "metadata": {},
     "output_type": "execute_result"
    }
   ],
   "source": [
    "X.head()"
   ]
  },
  {
   "cell_type": "markdown",
   "id": "99810182-a745-4cea-aa51-3758e337030b",
   "metadata": {},
   "source": [
    "We are now ready to dive in and apply some tabular machine learning algorithms. So:"
   ]
  },
  {
   "cell_type": "markdown",
   "id": "cb355769-07b4-4bce-bbb0-13ecc137dd8f",
   "metadata": {},
   "source": [
    "<a id='dive_in'></a>"
   ]
  },
  {
   "cell_type": "markdown",
   "id": "27b916cf-6856-4c31-b46a-788f86c95f86",
   "metadata": {},
   "source": [
    "## Dive in. Easy come easy go."
   ]
  },
  {
   "cell_type": "markdown",
   "id": "f60b8f27-c589-44df-a95f-03e0b3227c4b",
   "metadata": {},
   "source": [
    "Lets create train and test data sets then apply some tabular algos using the MultiOutputRegressor to predict the multiple values of y at the same time.\n",
    "\n",
    "The mean_absolute_percentage_error is the output metric we are interested in:"
   ]
  },
  {
   "cell_type": "code",
   "execution_count": 14,
   "id": "14acb115-42af-498c-9b5e-f3a1b1622f94",
   "metadata": {},
   "outputs": [],
   "source": [
    "X_train, X_test, y_train, y_test = train_test_split(X, y, train_size=0.8, test_size=0.2, random_state=0)"
   ]
  },
  {
   "cell_type": "code",
   "execution_count": 15,
   "id": "d92c3158-263c-42f5-bc42-2c63081421ce",
   "metadata": {},
   "outputs": [
    {
     "name": "stdout",
     "output_type": "stream",
     "text": [
      "0.025737343475474312\n",
      "CPU times: user 145 ms, sys: 9.82 ms, total: 155 ms\n",
      "Wall time: 23.9 ms\n"
     ]
    }
   ],
   "source": [
    "%%time\n",
    "\n",
    "model = LinearRegression(normalize=True)\n",
    "model = MultiOutputRegressor(model)\n",
    "model.fit(X_train, y_train)\n",
    "y_pred = model.predict(X_test)\n",
    "mape = mean_absolute_percentage_error(y_test, y_pred)\n",
    "print(mape)"
   ]
  },
  {
   "cell_type": "markdown",
   "id": "9ce0aa55-e659-487f-94dc-93bb3a76410d",
   "metadata": {},
   "source": [
    "Great! At 2.5% we are under the target value of 5%. Can Random Forest or XGBoost improve the outcome?"
   ]
  },
  {
   "cell_type": "code",
   "execution_count": 16,
   "id": "247c23ac-c300-4d2b-bc1e-76c356032bbc",
   "metadata": {},
   "outputs": [
    {
     "name": "stdout",
     "output_type": "stream",
     "text": [
      "0.02075091074980246\n",
      "CPU times: user 30.8 s, sys: 122 ms, total: 30.9 s\n",
      "Wall time: 29.7 s\n"
     ]
    }
   ],
   "source": [
    "%%time\n",
    "\n",
    "model = RandomForestRegressor(n_estimators=100, random_state=0)\n",
    "model = MultiOutputRegressor(model)\n",
    "model.fit(X_train, y_train)\n",
    "y_pred = model.predict(X_test)\n",
    "mape = mean_absolute_percentage_error(y_test, y_pred)\n",
    "print(mape)"
   ]
  },
  {
   "cell_type": "code",
   "execution_count": 17,
   "id": "b776a6b9-b061-420f-8a64-ccff52fef5cd",
   "metadata": {},
   "outputs": [
    {
     "name": "stdout",
     "output_type": "stream",
     "text": [
      "0.02160753428438072\n",
      "CPU times: user 10min 2s, sys: 12.3 s, total: 10min 15s\n",
      "Wall time: 45.4 s\n"
     ]
    }
   ],
   "source": [
    "%%time\n",
    "\n",
    "model = XGBRegressor(n_estimators=1000, learning_rate=0.05)\n",
    "model = MultiOutputRegressor(model)\n",
    "model.fit(X_train, y_train)\n",
    "y_pred = model.predict(X_test)\n",
    "mape = mean_absolute_percentage_error(y_test, y_pred)\n",
    "print(mape)"
   ]
  },
  {
   "cell_type": "markdown",
   "id": "3d11edfb-74e6-4ca6-9cb2-954858ceaf7b",
   "metadata": {},
   "source": [
    "Both Random Forest and XGB improve on the linear regressor result, so it seems we have a solution - an easy one!\n",
    "\n",
    "Sadly, this is not the case. The reason for this is that beacause of the lagged features, data from the test set appears in the training set, so to some extent we use the same data for training and testing - a sure recipe for overfitting.\n",
    "\n",
    "Let's try again, this time selecting the test set at the end of the time series, and ensuring there is no overlap between the training set and the testing set."
   ]
  },
  {
   "cell_type": "code",
   "execution_count": 18,
   "id": "f52990f5-49e1-4d47-9f0d-74b46d89fc2a",
   "metadata": {},
   "outputs": [],
   "source": [
    "n_in = 30\n",
    "n_out = 7\n",
    "test_size = n_out\n",
    "\n",
    "not_for_train_size = n_out + n_in + test_size\n",
    "\n",
    "X_train = X.iloc[:len(X)-not_for_train_size]\n",
    "X_test = X.iloc[-test_size:]\n",
    "\n",
    "y_train = y.iloc[:len(y)-not_for_train_size]\n",
    "y_test = y.iloc[-test_size:]"
   ]
  },
  {
   "cell_type": "code",
   "execution_count": 19,
   "id": "31fa2257-8d5b-49e1-96c0-5207f60cbf3b",
   "metadata": {},
   "outputs": [
    {
     "name": "stdout",
     "output_type": "stream",
     "text": [
      "0.020406005474708822\n",
      "CPU times: user 579 ms, sys: 22.5 ms, total: 602 ms\n",
      "Wall time: 46.9 ms\n"
     ]
    }
   ],
   "source": [
    "%%time\n",
    "\n",
    "model = LinearRegression(normalize=True)\n",
    "model = MultiOutputRegressor(model)\n",
    "model.fit(X_train, y_train)\n",
    "y_pred = model.predict(X_test)\n",
    "mape = mean_absolute_percentage_error(y_test, y_pred)\n",
    "print(mape)"
   ]
  },
  {
   "cell_type": "code",
   "execution_count": 20,
   "id": "1702a914-dec0-4265-a2f6-4dc38a8dd909",
   "metadata": {},
   "outputs": [
    {
     "name": "stdout",
     "output_type": "stream",
     "text": [
      "0.043738817321649304\n",
      "CPU times: user 39.9 s, sys: 89.6 ms, total: 40 s\n",
      "Wall time: 38.2 s\n"
     ]
    }
   ],
   "source": [
    "%%time\n",
    "model = RandomForestRegressor(n_estimators=100, random_state=0)\n",
    "\n",
    "model = MultiOutputRegressor(model)\n",
    "model.fit(X_train, y_train)\n",
    "y_pred = model.predict(X_test)\n",
    "mape = mean_absolute_percentage_error(y_test, y_pred)\n",
    "print(mape)"
   ]
  },
  {
   "cell_type": "code",
   "execution_count": 21,
   "id": "e13e3a11-bd00-4e01-ab15-8120e14bc0b5",
   "metadata": {},
   "outputs": [
    {
     "name": "stdout",
     "output_type": "stream",
     "text": [
      "0.06929569000978325\n",
      "CPU times: user 11min 41s, sys: 13.9 s, total: 11min 54s\n",
      "Wall time: 52.9 s\n"
     ]
    }
   ],
   "source": [
    "%%time\n",
    "\n",
    "model = XGBRegressor(n_estimators=1000, learning_rate=0.05)\n",
    "model = MultiOutputRegressor(model)\n",
    "model.fit(X_train, y_train)\n",
    "y_pred = model.predict(X_test)\n",
    "mape = mean_absolute_percentage_error(y_test, y_pred)\n",
    "print(mape)"
   ]
  },
  {
   "cell_type": "markdown",
   "id": "a27b34a7-aebb-4b51-9372-2e8b1b82394e",
   "metadata": {},
   "source": [
    "Different story, right? The linear model still gives a good result with a 2% relative error, but both the Random Forest and XGB regressors have worse results. \n",
    "\n",
    "In addition, these algos seem to take orders of magnitudes more time to train than the linear model. We have run quite a number of time consuming experiments, which we are not going to present here. In all these experiments, the linear model produced better outcomes and usable runtimes.\n",
    "\n",
    "The end result is that, from now onwards we will only use the linear regressor.\n",
    "\n",
    "A small note to say, that, although not presented here, we also tested the RegressorChain of the sklearn.multioutput module. It consistently produces worse results than the MultiOutputRegressor, presumably because the errors produced in the first predicted values (say ac(t+1)), which are used to predict next values (ac(t+2) etc) in the chain, amplify the errors in the predicted values down the chain. So, we are only using the MultiOutputRegressor to predict multiple values in the future.\n",
    "\n",
    "The following function will compute the mean percentage error for a linear model for a given data set and back and forth lagged values:"
   ]
  },
  {
   "cell_type": "code",
   "execution_count": 22,
   "id": "1cf7e577-e13c-4198-9a0c-e88a990e94ae",
   "metadata": {},
   "outputs": [
    {
     "name": "stdout",
     "output_type": "stream",
     "text": [
      "CPU times: user 15 µs, sys: 0 ns, total: 15 µs\n",
      "Wall time: 4.53 µs\n"
     ]
    }
   ],
   "source": [
    "%%time\n",
    "\n",
    "def make_mape(df, n_in, n_out, model='linear'):\n",
    "    \"\"\"\n",
    "    Computes the mean absolute percentage error of a linear model fit over df['ac'] time series with n_in + 1 history values, and n_out predicted values\n",
    "    Arguments:\n",
    "        df: Pandas dataframe which should include the Adjuste Close 'ac' column\n",
    "        n_in: Number of lag observations as input (X).\n",
    "        n_out: Number of observations as output (y).\n",
    "    Returns:\n",
    "        Mean absolute percentage error of the linear model fit to the observations\n",
    "    \"\"\"\n",
    "    \n",
    "    # create lagged features\n",
    "    dflag = df_to_lagged_features(df.loc[:, ['ac']], n_in=n_in, n_out=n_out)\n",
    "\n",
    "    # drop columns ac(t+1)..ac(t+2) from dflag to create X features\n",
    "    columns_to_drop = [ 'ac(t+{0})'.format(i) for i in range(1, n_out+1) ]\n",
    "    X = dflag.drop(columns_to_drop, 1)\n",
    "\n",
    "    # predicted values are all non X columns\n",
    "    y = dflag.drop(X.columns, 1)\n",
    "\n",
    "    # create test/train datasets\n",
    "    test_size = n_out\n",
    "\n",
    "    not_for_train_size = n_out + n_in + test_size\n",
    "\n",
    "    X_train = X.iloc[:len(X)-not_for_train_size]\n",
    "    X_test = X.iloc[-test_size:]\n",
    "\n",
    "    y_train = y.iloc[:len(y)-not_for_train_size]\n",
    "    y_test = y.iloc[-test_size:]\n",
    "\n",
    "    # fit and predict a multiclass linear model\n",
    "    model = LinearRegression(normalize=True)\n",
    "    model = MultiOutputRegressor(model)\n",
    "    model.fit(X_train, y_train)\n",
    "    y_pred = model.predict(X_test)\n",
    "    mape = mean_absolute_percentage_error(y_test, y_pred)\n",
    "\n",
    "    return mape"
   ]
  },
  {
   "cell_type": "markdown",
   "id": "90064f2f-e8c3-4cd6-a676-3924284a7a3f",
   "metadata": {},
   "source": [
    "<a id='one_model'></a>"
   ]
  },
  {
   "cell_type": "markdown",
   "id": "b7e35fa9-f627-46de-ab29-fe4772716f63",
   "metadata": {},
   "source": [
    "## One model or many models?"
   ]
  },
  {
   "cell_type": "markdown",
   "id": "bb6d5124-d27d-416b-9a92-23f3ddd9e417",
   "metadata": {},
   "source": [
    "Intuitively, this is easy to answer: one model for all market symbols will likely average among all stocks. It might be a good model for the average market and a few stocks that really move the market, but otherwise it would probably fair poorly on most of the stocks.\n",
    "\n",
    "Let's further enforce this (weak) justification by looking at the data of a few stocks.\n",
    "\n",
    "We'll use a list of stock symbols from the [Nasdaq website.](#nasdaq_stock_symbols) downloaded into a file called symbols.csv.\n",
    "\n",
    "Let's load the data and plot the Adjusted Close value for the last 6 years for a few stocks:"
   ]
  },
  {
   "cell_type": "code",
   "execution_count": 23,
   "id": "6a1e9463-97d2-4cf3-b92b-d97e17276c8c",
   "metadata": {},
   "outputs": [
    {
     "data": {
      "text/html": [
       "<div>\n",
       "<style scoped>\n",
       "    .dataframe tbody tr th:only-of-type {\n",
       "        vertical-align: middle;\n",
       "    }\n",
       "\n",
       "    .dataframe tbody tr th {\n",
       "        vertical-align: top;\n",
       "    }\n",
       "\n",
       "    .dataframe thead th {\n",
       "        text-align: right;\n",
       "    }\n",
       "</style>\n",
       "<table border=\"1\" class=\"dataframe\">\n",
       "  <thead>\n",
       "    <tr style=\"text-align: right;\">\n",
       "      <th></th>\n",
       "      <th>Symbol</th>\n",
       "      <th>Name</th>\n",
       "      <th>Last Sale</th>\n",
       "      <th>Net Change</th>\n",
       "      <th>% Change</th>\n",
       "      <th>Market Cap</th>\n",
       "      <th>Country</th>\n",
       "      <th>IPO Year</th>\n",
       "      <th>Volume</th>\n",
       "      <th>Sector</th>\n",
       "      <th>Industry</th>\n",
       "    </tr>\n",
       "  </thead>\n",
       "  <tbody>\n",
       "    <tr>\n",
       "      <th>18</th>\n",
       "      <td>AAPL</td>\n",
       "      <td>Apple Inc. Common Stock</td>\n",
       "      <td>$172.26</td>\n",
       "      <td>-7.04</td>\n",
       "      <td>-3.926%</td>\n",
       "      <td>2.986530e+12</td>\n",
       "      <td>United States</td>\n",
       "      <td>1980.0</td>\n",
       "      <td>149956379</td>\n",
       "      <td>Technology</td>\n",
       "      <td>Computer Manufacturing</td>\n",
       "    </tr>\n",
       "    <tr>\n",
       "      <th>5006</th>\n",
       "      <td>MSFT</td>\n",
       "      <td>Microsoft Corporation Common Stock</td>\n",
       "      <td>$324.90</td>\n",
       "      <td>-9.75</td>\n",
       "      <td>-2.913%</td>\n",
       "      <td>2.439343e+12</td>\n",
       "      <td>United States</td>\n",
       "      <td>1986.0</td>\n",
       "      <td>34986695</td>\n",
       "      <td>Technology</td>\n",
       "      <td>Computer Software: Prepackaged Software</td>\n",
       "    </tr>\n",
       "    <tr>\n",
       "      <th>3354</th>\n",
       "      <td>GOOG</td>\n",
       "      <td>Alphabet Inc. Class C Capital Stock</td>\n",
       "      <td>$2896.77</td>\n",
       "      <td>-50.60</td>\n",
       "      <td>-1.717%</td>\n",
       "      <td>1.922772e+12</td>\n",
       "      <td>United States</td>\n",
       "      <td>2004.0</td>\n",
       "      <td>1368942</td>\n",
       "      <td>Technology</td>\n",
       "      <td>Internet and Information Services</td>\n",
       "    </tr>\n",
       "    <tr>\n",
       "      <th>3355</th>\n",
       "      <td>GOOGL</td>\n",
       "      <td>Alphabet Inc. Class A Common Stock</td>\n",
       "      <td>$2888.90</td>\n",
       "      <td>-39.92</td>\n",
       "      <td>-1.363%</td>\n",
       "      <td>1.917548e+12</td>\n",
       "      <td>United States</td>\n",
       "      <td>NaN</td>\n",
       "      <td>1681623</td>\n",
       "      <td>Technology</td>\n",
       "      <td>Internet and Information Services</td>\n",
       "    </tr>\n",
       "    <tr>\n",
       "      <th>452</th>\n",
       "      <td>AMZN</td>\n",
       "      <td>Amazon.com Inc. Common Stock</td>\n",
       "      <td>$3377.42</td>\n",
       "      <td>-88.88</td>\n",
       "      <td>-2.564%</td>\n",
       "      <td>1.712851e+12</td>\n",
       "      <td>United States</td>\n",
       "      <td>1997.0</td>\n",
       "      <td>3038172</td>\n",
       "      <td>Consumer Services</td>\n",
       "      <td>Catalog/Specialty Distribution</td>\n",
       "    </tr>\n",
       "    <tr>\n",
       "      <th>...</th>\n",
       "      <td>...</td>\n",
       "      <td>...</td>\n",
       "      <td>...</td>\n",
       "      <td>...</td>\n",
       "      <td>...</td>\n",
       "      <td>...</td>\n",
       "      <td>...</td>\n",
       "      <td>...</td>\n",
       "      <td>...</td>\n",
       "      <td>...</td>\n",
       "      <td>...</td>\n",
       "    </tr>\n",
       "    <tr>\n",
       "      <th>8073</th>\n",
       "      <td>WRB^G</td>\n",
       "      <td>W.R. Berkley Corporation 4.25% Subordinated De...</td>\n",
       "      <td>$26.03</td>\n",
       "      <td>0.21</td>\n",
       "      <td>0.813%</td>\n",
       "      <td>NaN</td>\n",
       "      <td>United States</td>\n",
       "      <td>NaN</td>\n",
       "      <td>4904</td>\n",
       "      <td>NaN</td>\n",
       "      <td>NaN</td>\n",
       "    </tr>\n",
       "    <tr>\n",
       "      <th>8074</th>\n",
       "      <td>WRB^H</td>\n",
       "      <td>W.R. Berkley Corporation 4.125% Subordinated D...</td>\n",
       "      <td>$25.53</td>\n",
       "      <td>0.05</td>\n",
       "      <td>0.196%</td>\n",
       "      <td>NaN</td>\n",
       "      <td>United States</td>\n",
       "      <td>NaN</td>\n",
       "      <td>5614</td>\n",
       "      <td>NaN</td>\n",
       "      <td>NaN</td>\n",
       "    </tr>\n",
       "    <tr>\n",
       "      <th>8087</th>\n",
       "      <td>WSO/B</td>\n",
       "      <td>Watsco Inc.</td>\n",
       "      <td>$307.19</td>\n",
       "      <td>0.00</td>\n",
       "      <td>0.00%</td>\n",
       "      <td>NaN</td>\n",
       "      <td>United States</td>\n",
       "      <td>NaN</td>\n",
       "      <td>66</td>\n",
       "      <td>NaN</td>\n",
       "      <td>NaN</td>\n",
       "    </tr>\n",
       "    <tr>\n",
       "      <th>8135</th>\n",
       "      <td>XFLT^A</td>\n",
       "      <td>XAI Octagon Floating Rate &amp; Alternative Income...</td>\n",
       "      <td>$25.98</td>\n",
       "      <td>0.00</td>\n",
       "      <td>0.00%</td>\n",
       "      <td>NaN</td>\n",
       "      <td>United States</td>\n",
       "      <td>NaN</td>\n",
       "      <td>34</td>\n",
       "      <td>NaN</td>\n",
       "      <td>NaN</td>\n",
       "    </tr>\n",
       "    <tr>\n",
       "      <th>8181</th>\n",
       "      <td>YCBD^A</td>\n",
       "      <td>cbdMD Inc. 8.0% Series A Cumulative Convertibl...</td>\n",
       "      <td>$5.76</td>\n",
       "      <td>0.02</td>\n",
       "      <td>0.348%</td>\n",
       "      <td>NaN</td>\n",
       "      <td>United States</td>\n",
       "      <td>NaN</td>\n",
       "      <td>6812</td>\n",
       "      <td>NaN</td>\n",
       "      <td>NaN</td>\n",
       "    </tr>\n",
       "  </tbody>\n",
       "</table>\n",
       "<p>8268 rows × 11 columns</p>\n",
       "</div>"
      ],
      "text/plain": [
       "      Symbol                                               Name Last Sale  \\\n",
       "18      AAPL                            Apple Inc. Common Stock   $172.26   \n",
       "5006    MSFT                 Microsoft Corporation Common Stock   $324.90   \n",
       "3354    GOOG                Alphabet Inc. Class C Capital Stock  $2896.77   \n",
       "3355   GOOGL                 Alphabet Inc. Class A Common Stock  $2888.90   \n",
       "452     AMZN                       Amazon.com Inc. Common Stock  $3377.42   \n",
       "...      ...                                                ...       ...   \n",
       "8073   WRB^G  W.R. Berkley Corporation 4.25% Subordinated De...    $26.03   \n",
       "8074   WRB^H  W.R. Berkley Corporation 4.125% Subordinated D...    $25.53   \n",
       "8087   WSO/B                                        Watsco Inc.   $307.19   \n",
       "8135  XFLT^A  XAI Octagon Floating Rate & Alternative Income...    $25.98   \n",
       "8181  YCBD^A  cbdMD Inc. 8.0% Series A Cumulative Convertibl...     $5.76   \n",
       "\n",
       "      Net Change % Change    Market Cap        Country  IPO Year     Volume  \\\n",
       "18         -7.04  -3.926%  2.986530e+12  United States    1980.0  149956379   \n",
       "5006       -9.75  -2.913%  2.439343e+12  United States    1986.0   34986695   \n",
       "3354      -50.60  -1.717%  1.922772e+12  United States    2004.0    1368942   \n",
       "3355      -39.92  -1.363%  1.917548e+12  United States       NaN    1681623   \n",
       "452       -88.88  -2.564%  1.712851e+12  United States    1997.0    3038172   \n",
       "...          ...      ...           ...            ...       ...        ...   \n",
       "8073        0.21   0.813%           NaN  United States       NaN       4904   \n",
       "8074        0.05   0.196%           NaN  United States       NaN       5614   \n",
       "8087        0.00    0.00%           NaN  United States       NaN         66   \n",
       "8135        0.00    0.00%           NaN  United States       NaN         34   \n",
       "8181        0.02   0.348%           NaN  United States       NaN       6812   \n",
       "\n",
       "                 Sector                                 Industry  \n",
       "18           Technology                   Computer Manufacturing  \n",
       "5006         Technology  Computer Software: Prepackaged Software  \n",
       "3354         Technology        Internet and Information Services  \n",
       "3355         Technology        Internet and Information Services  \n",
       "452   Consumer Services           Catalog/Specialty Distribution  \n",
       "...                 ...                                      ...  \n",
       "8073                NaN                                      NaN  \n",
       "8074                NaN                                      NaN  \n",
       "8087                NaN                                      NaN  \n",
       "8135                NaN                                      NaN  \n",
       "8181                NaN                                      NaN  \n",
       "\n",
       "[8268 rows x 11 columns]"
      ]
     },
     "execution_count": 23,
     "metadata": {},
     "output_type": "execute_result"
    }
   ],
   "source": [
    "symbols_data = pd.read_csv('symbols.csv')\n",
    "symbols_data = symbols_data.sort_values(['Market Cap'], ascending=[False])\n",
    "symbols_data"
   ]
  },
  {
   "cell_type": "markdown",
   "id": "8d82cd44-d689-44fb-a315-cd77842eef2c",
   "metadata": {},
   "source": [
    "We have a few null values on the Market Cap column, so let's drop them."
   ]
  },
  {
   "cell_type": "code",
   "execution_count": 24,
   "id": "b8d6e0e0-cfbd-4afb-9991-b28c1a0ca3bc",
   "metadata": {},
   "outputs": [
    {
     "data": {
      "text/plain": [
       "7795"
      ]
     },
     "execution_count": 24,
     "metadata": {},
     "output_type": "execute_result"
    }
   ],
   "source": [
    "symbols_data = symbols_data[symbols_data['Market Cap'].notna()].sort_values(['Market Cap'], ascending=[False])\n",
    "len(symbols_data)"
   ]
  },
  {
   "cell_type": "markdown",
   "id": "f644a144-3906-4136-bcde-75bd35649507",
   "metadata": {},
   "source": [
    "Lets select the first, the 10th, the 100th and 1000th stock symbols by market capitalisation:"
   ]
  },
  {
   "cell_type": "code",
   "execution_count": 25,
   "id": "b7d6ccb0-ae1e-424d-97aa-7868d29556e8",
   "metadata": {},
   "outputs": [
    {
     "data": {
      "text/plain": [
       "['AAPL', 'JPM', 'MRNA', 'DAVA']"
      ]
     },
     "execution_count": 25,
     "metadata": {},
     "output_type": "execute_result"
    }
   ],
   "source": [
    "ranks = [0, 9, 99, 999]\n",
    "symbols = [ symbols_data.iloc[r]['Symbol'] for r in ranks ]\n",
    "symbols"
   ]
  },
  {
   "cell_type": "code",
   "execution_count": 26,
   "id": "5e7eb6ef-11b9-4a7c-82be-5d9943d84289",
   "metadata": {},
   "outputs": [
    {
     "data": {
      "text/html": [
       "<div>\n",
       "<style scoped>\n",
       "    .dataframe tbody tr th:only-of-type {\n",
       "        vertical-align: middle;\n",
       "    }\n",
       "\n",
       "    .dataframe tbody tr th {\n",
       "        vertical-align: top;\n",
       "    }\n",
       "\n",
       "    .dataframe thead th {\n",
       "        text-align: right;\n",
       "    }\n",
       "</style>\n",
       "<table border=\"1\" class=\"dataframe\">\n",
       "  <thead>\n",
       "    <tr style=\"text-align: right;\">\n",
       "      <th></th>\n",
       "      <th>AAPL</th>\n",
       "      <th>JPM</th>\n",
       "      <th>MRNA</th>\n",
       "      <th>DAVA</th>\n",
       "    </tr>\n",
       "    <tr>\n",
       "      <th>Date</th>\n",
       "      <th></th>\n",
       "      <th></th>\n",
       "      <th></th>\n",
       "      <th></th>\n",
       "    </tr>\n",
       "  </thead>\n",
       "  <tbody>\n",
       "    <tr>\n",
       "      <th>2016-01-04</th>\n",
       "      <td>24.251434</td>\n",
       "      <td>54.278229</td>\n",
       "      <td>NaN</td>\n",
       "      <td>NaN</td>\n",
       "    </tr>\n",
       "    <tr>\n",
       "      <th>2016-01-05</th>\n",
       "      <td>23.643715</td>\n",
       "      <td>54.372074</td>\n",
       "      <td>NaN</td>\n",
       "      <td>NaN</td>\n",
       "    </tr>\n",
       "    <tr>\n",
       "      <th>2016-01-06</th>\n",
       "      <td>23.181013</td>\n",
       "      <td>53.587173</td>\n",
       "      <td>NaN</td>\n",
       "      <td>NaN</td>\n",
       "    </tr>\n",
       "    <tr>\n",
       "      <th>2016-01-07</th>\n",
       "      <td>22.202667</td>\n",
       "      <td>51.420128</td>\n",
       "      <td>NaN</td>\n",
       "      <td>NaN</td>\n",
       "    </tr>\n",
       "    <tr>\n",
       "      <th>2016-01-08</th>\n",
       "      <td>22.320068</td>\n",
       "      <td>50.268372</td>\n",
       "      <td>NaN</td>\n",
       "      <td>NaN</td>\n",
       "    </tr>\n",
       "    <tr>\n",
       "      <th>...</th>\n",
       "      <td>...</td>\n",
       "      <td>...</td>\n",
       "      <td>...</td>\n",
       "      <td>...</td>\n",
       "    </tr>\n",
       "    <tr>\n",
       "      <th>2021-12-21</th>\n",
       "      <td>172.990005</td>\n",
       "      <td>156.089996</td>\n",
       "      <td>268.140015</td>\n",
       "      <td>154.100006</td>\n",
       "    </tr>\n",
       "    <tr>\n",
       "      <th>2021-12-22</th>\n",
       "      <td>175.639999</td>\n",
       "      <td>156.699997</td>\n",
       "      <td>251.360001</td>\n",
       "      <td>159.740005</td>\n",
       "    </tr>\n",
       "    <tr>\n",
       "      <th>2021-12-23</th>\n",
       "      <td>176.279999</td>\n",
       "      <td>157.259995</td>\n",
       "      <td>249.990005</td>\n",
       "      <td>163.119995</td>\n",
       "    </tr>\n",
       "    <tr>\n",
       "      <th>2021-12-27</th>\n",
       "      <td>180.330002</td>\n",
       "      <td>158.160004</td>\n",
       "      <td>246.880005</td>\n",
       "      <td>170.130005</td>\n",
       "    </tr>\n",
       "    <tr>\n",
       "      <th>2021-12-28</th>\n",
       "      <td>179.229996</td>\n",
       "      <td>159.615005</td>\n",
       "      <td>250.520004</td>\n",
       "      <td>169.300003</td>\n",
       "    </tr>\n",
       "  </tbody>\n",
       "</table>\n",
       "<p>1508 rows × 4 columns</p>\n",
       "</div>"
      ],
      "text/plain": [
       "                  AAPL         JPM        MRNA        DAVA\n",
       "Date                                                      \n",
       "2016-01-04   24.251434   54.278229         NaN         NaN\n",
       "2016-01-05   23.643715   54.372074         NaN         NaN\n",
       "2016-01-06   23.181013   53.587173         NaN         NaN\n",
       "2016-01-07   22.202667   51.420128         NaN         NaN\n",
       "2016-01-08   22.320068   50.268372         NaN         NaN\n",
       "...                ...         ...         ...         ...\n",
       "2021-12-21  172.990005  156.089996  268.140015  154.100006\n",
       "2021-12-22  175.639999  156.699997  251.360001  159.740005\n",
       "2021-12-23  176.279999  157.259995  249.990005  163.119995\n",
       "2021-12-27  180.330002  158.160004  246.880005  170.130005\n",
       "2021-12-28  179.229996  159.615005  250.520004  169.300003\n",
       "\n",
       "[1508 rows x 4 columns]"
      ]
     },
     "execution_count": 26,
     "metadata": {},
     "output_type": "execute_result"
    }
   ],
   "source": [
    "dframes = []\n",
    "for s in symbols:\n",
    "    s_data = get_symbol_data(s, start_date='2016-01-01')\n",
    "    s_data = s_data.rename(columns={'High':'h', 'Low':'l', 'Open':'o', 'Close':'c', 'Volume':'v', 'Adj Close':s})\n",
    "    dframes.append(s_data[s])\n",
    "\n",
    "ticks = pd.concat(dframes, axis=1)\n",
    "ticks"
   ]
  },
  {
   "cell_type": "code",
   "execution_count": 27,
   "id": "a1afb87d-a732-4336-b248-33e20e06dd4f",
   "metadata": {},
   "outputs": [
    {
     "data": {
      "text/plain": [
       "<AxesSubplot:xlabel='Date'>"
      ]
     },
     "execution_count": 27,
     "metadata": {},
     "output_type": "execute_result"
    },
    {
     "data": {
      "image/png": "[encoded data removed]",
      "text/plain": [
       "<Figure size 1152x648 with 1 Axes>"
      ]
     },
     "metadata": {
      "needs_background": "light"
     },
     "output_type": "display_data"
    }
   ],
   "source": [
    "ticks.plot(figsize=(16,9))"
   ]
  },
  {
   "cell_type": "markdown",
   "id": "7acb2c37-a370-40b8-9dc3-97c9b91736b4",
   "metadata": {},
   "source": [
    "Looking at the above plot, it is reasonable to suspect a linear model will perform poorly on the MRNA stock, let alone a combination of the four.\n",
    "\n",
    "This is a weak, informal justification for this decision, but we'll generate one model per stock. The training time is well under a second per stock so, we'll be able to generate the respective model(s) in a reasonable time.\n",
    "\n",
    "Let's also observe that the subset of companies with a market valuation of at least $1bn make more than 98% of the total market. We'll restrict our analysis to this subset which is a list of 2844 companies:"
   ]
  },
  {
   "cell_type": "code",
   "execution_count": 28,
   "id": "1b3f6868-7365-47c5-b4cc-d6130b03cd06",
   "metadata": {},
   "outputs": [
    {
     "data": {
      "text/plain": [
       "2844"
      ]
     },
     "execution_count": 28,
     "metadata": {},
     "output_type": "execute_result"
    }
   ],
   "source": [
    "len(symbols_data[symbols_data['Market Cap'] >= 1000000000])"
   ]
  },
  {
   "cell_type": "code",
   "execution_count": 29,
   "id": "211db8fe-a071-45f1-b6ac-3624cfb141b1",
   "metadata": {},
   "outputs": [
    {
     "data": {
      "text/plain": [
       "<AxesSubplot:xlabel='Rank of companies ordered descending by Market Cap', ylabel='Cumulative Market Cap tens of $tn'>"
      ]
     },
     "execution_count": 29,
     "metadata": {},
     "output_type": "execute_result"
    },
    {
     "data": {
      "image/png": "[encoded data removed]",
      "text/plain": [
       "<Figure size 1152x648 with 1 Axes>"
      ]
     },
     "metadata": {
      "needs_background": "light"
     },
     "output_type": "display_data"
    }
   ],
   "source": [
    "symbols_data.reset_index()['Market Cap'].cumsum().plot(figsize=(16,9), ylabel='Cumulative Market Cap tens of $tn', xlabel='Rank of companies ordered descending by Market Cap')"
   ]
  },
  {
   "cell_type": "code",
   "execution_count": 30,
   "id": "46a3e552-ff21-426a-b45e-0e2dbac9d2fb",
   "metadata": {},
   "outputs": [
    {
     "data": {
      "text/plain": [
       "0.9831569804808304"
      ]
     },
     "execution_count": 30,
     "metadata": {},
     "output_type": "execute_result"
    }
   ],
   "source": [
    "symbols_data[symbols_data['Market Cap'] >= 1000000000]['Market Cap'].sum() / symbols_data['Market Cap'].sum() "
   ]
  },
  {
   "cell_type": "code",
   "execution_count": 31,
   "id": "d1ea7627-820e-44da-8829-448ae8021490",
   "metadata": {},
   "outputs": [
    {
     "data": {
      "text/plain": [
       "2844"
      ]
     },
     "execution_count": 31,
     "metadata": {},
     "output_type": "execute_result"
    }
   ],
   "source": [
    "symbols_data = symbols_data[symbols_data['Market Cap'] >= 1000000000]\n",
    "len(symbols_data)"
   ]
  },
  {
   "cell_type": "markdown",
   "id": "ed52729e-6663-429e-a868-e91fb299b965",
   "metadata": {},
   "source": [
    "<a id='how_much_lagged'></a>"
   ]
  },
  {
   "cell_type": "markdown",
   "id": "2b94090c-1f8a-40f9-9122-991a1ef4bdd8",
   "metadata": {},
   "source": [
    "## How much lagged data do we need?\n",
    "\n",
    "Let's look at a couple of companies, GOOG, TSLA and see if we can generalise what we'll learn. At a glance it is hard to say whether one stock or the other will fare better with our linear regressor:"
   ]
  },
  {
   "cell_type": "code",
   "execution_count": 32,
   "id": "24fe74e4-5618-4a21-858c-883d2e95531f",
   "metadata": {},
   "outputs": [
    {
     "data": {
      "text/plain": [
       "<AxesSubplot:xlabel='Date'>"
      ]
     },
     "execution_count": 32,
     "metadata": {},
     "output_type": "execute_result"
    },
    {
     "data": {
      "image/png": "[encoded data removed]",
      "text/plain": [
       "<Figure size 1152x648 with 1 Axes>"
      ]
     },
     "metadata": {
      "needs_background": "light"
     },
     "output_type": "display_data"
    }
   ],
   "source": [
    "symbols = ['GOOG', 'TSLA']\n",
    "dframes = []\n",
    "for s in symbols:\n",
    "    s_data = get_symbol_data(s, '2016-01-01')\n",
    "    s_data = s_data.rename(columns={'High':'h', 'Low':'l', 'Open':'o', 'Close':'c', 'Volume':'v', 'Adj Close':s})\n",
    "    dframes.append(s_data[s])\n",
    "\n",
    "ticks = pd.concat(dframes, axis=1)\n",
    "\n",
    "ticks.plot(figsize=(16,9))"
   ]
  },
  {
   "cell_type": "markdown",
   "id": "037cae88-e4da-4db9-918b-0369d74ed388",
   "metadata": {},
   "source": [
    "Next, we set the predicted values n_out to 7, while we fit linear regressors for different training values where the training sets have back values as features ranging from 1 to 60. We then plot the mean percentage errors (y axis) versus the number of lagged features in the model (X axis) for both TSLA and GOOG:"
   ]
  },
  {
   "cell_type": "code",
   "execution_count": 33,
   "id": "650b739c-bedd-4169-8dbf-41e14852a0d7",
   "metadata": {
    "tags": []
   },
   "outputs": [
    {
     "name": "stdout",
     "output_type": "stream",
     "text": [
      "CPU times: user 25.2 s, sys: 516 ms, total: 25.7 s\n",
      "Wall time: 3.23 s\n"
     ]
    },
    {
     "data": {
      "text/plain": [
       "<AxesSubplot:xlabel='Number of lagged features', ylabel='MAPE for a multioutput linear model predicting 7 values ahead'>"
      ]
     },
     "execution_count": 33,
     "metadata": {},
     "output_type": "execute_result"
    },
    {
     "data": {
      "image/png": "[encoded data removed]",
      "text/plain": [
       "<Figure size 1152x648 with 1 Axes>"
      ]
     },
     "metadata": {
      "needs_background": "light"
     },
     "output_type": "display_data"
    }
   ],
   "source": [
    "%%time\n",
    "symbols = ['GOOG', 'TSLA']\n",
    "mape_records = list()\n",
    "\n",
    "for s in symbols:\n",
    "    symbol_data = get_symbol_data(s)\n",
    "    symbol_data = symbol_data.rename(columns={'High':'h', 'Low':'l', 'Open':'o', 'Close':'c', 'Volume':'v', 'Adj Close':'ac'})\n",
    "    mape_list = []\n",
    "    for n_in in range(1, 61):\n",
    "        mape_list.append(make_mape(symbol_data, n_in, n_out=7))\n",
    "    mape_records.append(mape_list)\n",
    "\n",
    "df1 = pd.DataFrame.from_records(mape_records).transpose()\n",
    "df1.columns = symbols\n",
    "df1.plot(figsize=(16,9), xlabel='Number of lagged features', ylabel='MAPE for a multioutput linear model predicting 7 values ahead')"
   ]
  },
  {
   "cell_type": "markdown",
   "id": "54b8719b-b181-418e-aa9e-433d53b110c2",
   "metadata": {},
   "source": [
    "Looking at the graph above there seems to be no benefit of retaining more than 20 lagged values for our linear regressor. Plotting GOOG and TSLA separately make it more clear."
   ]
  },
  {
   "cell_type": "code",
   "execution_count": 34,
   "id": "acf2ac9e-0880-4a77-a1f3-5082330293dd",
   "metadata": {},
   "outputs": [
    {
     "name": "stdout",
     "output_type": "stream",
     "text": [
      "CPU times: user 13.1 s, sys: 240 ms, total: 13.3 s\n",
      "Wall time: 1.67 s\n"
     ]
    },
    {
     "data": {
      "text/plain": [
       "<AxesSubplot:xlabel='Number of lagged features', ylabel='MAPE for a multioutput linear model predicting 7 values ahead'>"
      ]
     },
     "execution_count": 34,
     "metadata": {},
     "output_type": "execute_result"
    },
    {
     "data": {
      "image/png": "[encoded data removed]",
      "text/plain": [
       "<Figure size 1152x648 with 1 Axes>"
      ]
     },
     "metadata": {
      "needs_background": "light"
     },
     "output_type": "display_data"
    }
   ],
   "source": [
    "%%time\n",
    "symbol_data = get_symbol_data('GOOG')\n",
    "symbol_data = symbol_data.rename(columns={'High':'h', 'Low':'l', 'Open':'o', 'Close':'c', 'Volume':'v', 'Adj Close':'ac'})\n",
    "\n",
    "mape_list = []\n",
    "\n",
    "for n_in in range(1, 61):\n",
    "    mape_list.append(make_mape(symbol_data, n_in, n_out=7))\n",
    "\n",
    "pd.DataFrame(mape_list).rename(columns={0:'GOOG'}).plot(figsize=(16,9), xlabel='Number of lagged features', ylabel='MAPE for a multioutput linear model predicting 7 values ahead')"
   ]
  },
  {
   "cell_type": "code",
   "execution_count": 35,
   "id": "9accf51b-9c1d-42e7-9cae-c7010374659e",
   "metadata": {},
   "outputs": [
    {
     "name": "stdout",
     "output_type": "stream",
     "text": [
      "CPU times: user 12.3 s, sys: 232 ms, total: 12.6 s\n",
      "Wall time: 1.57 s\n"
     ]
    },
    {
     "data": {
      "text/plain": [
       "<AxesSubplot:xlabel='Number of lagged features', ylabel='MAPE for a multioutput linear model predicting 7 values ahead'>"
      ]
     },
     "execution_count": 35,
     "metadata": {},
     "output_type": "execute_result"
    },
    {
     "data": {
      "image/png": "[encoded data removed]",
      "text/plain": [
       "<Figure size 1152x648 with 1 Axes>"
      ]
     },
     "metadata": {
      "needs_background": "light"
     },
     "output_type": "display_data"
    }
   ],
   "source": [
    "%%time\n",
    "symbol_data = get_symbol_data('TSLA')\n",
    "symbol_data = symbol_data.rename(columns={'High':'h', 'Low':'l', 'Open':'o', 'Close':'c', 'Volume':'v', 'Adj Close':'ac'})\n",
    "\n",
    "mape_list = []\n",
    "\n",
    "for n_in in range(1, 60):\n",
    "    mape_list.append(make_mape(symbol_data, n_in, n_out=7))\n",
    "\n",
    "pd.DataFrame(mape_list).rename(columns={0:'TSLA'}).plot(figsize=(16,9), xlabel='Number of lagged features', ylabel='MAPE for a multioutput linear model predicting 7 values ahead')"
   ]
  },
  {
   "cell_type": "markdown",
   "id": "166b8198-b5d3-405d-b569-9ff71b237484",
   "metadata": {},
   "source": [
    "So we think of retaining no more than 20 lagged features for our linear regressor. Let's see if this assuption holds for 10 random stocks from our symbols_data.\n",
    "\n",
    "For replicability of this notebook, we use \"random.seed(313)\" in all code below where a random process is used."
   ]
  },
  {
   "cell_type": "code",
   "execution_count": 36,
   "id": "57df56d6-797d-4cb5-b551-2de5a50c6a54",
   "metadata": {},
   "outputs": [
    {
     "data": {
      "text/plain": [
       "['RDWR', 'ARGX', 'FLNG', 'VALN', 'ALHC', 'BBL', 'LII', 'FANG', 'INFO', 'FOCS']"
      ]
     },
     "execution_count": 36,
     "metadata": {},
     "output_type": "execute_result"
    }
   ],
   "source": [
    "random.seed(313)\n",
    "symbols = random.sample(symbols_data['Symbol'].to_list(), 10)\n",
    "symbols"
   ]
  },
  {
   "cell_type": "code",
   "execution_count": 37,
   "id": "fbcc04b1-8dd9-4bcc-bb68-3b93b24705f8",
   "metadata": {},
   "outputs": [
    {
     "name": "stdout",
     "output_type": "stream",
     "text": [
      "CPU times: user 1min 50s, sys: 2.33 s, total: 1min 52s\n",
      "Wall time: 14.1 s\n"
     ]
    }
   ],
   "source": [
    "%%time\n",
    "mape_records = []\n",
    "for symbol in symbols:\n",
    "    symbol_data = get_symbol_data(symbol)\n",
    "    symbol_data = symbol_data.rename(columns={'High':'h', 'Low':'l', 'Open':'o', 'Close':'c', 'Volume':'v', 'Adj Close':'ac'})\n",
    "    mape_list = []\n",
    "    for n_in in range(1, 60):\n",
    "        try:\n",
    "            mape_list.append(make_mape(symbol_data, n_in, n_out=7))\n",
    "        except:\n",
    "            # we don't catch this exception as it is generated when there is not enough data to derive the lagged history features\n",
    "            continue\n",
    "    mape_records.append(mape_list)"
   ]
  },
  {
   "cell_type": "code",
   "execution_count": 38,
   "id": "c240a332-24a7-43d1-8f47-e2ca09a208ff",
   "metadata": {},
   "outputs": [
    {
     "data": {
      "text/plain": [
       "<AxesSubplot:xlabel='Number of lagged features', ylabel='MAPE for a multioutput linear model predicting 7 values ahead'>"
      ]
     },
     "execution_count": 38,
     "metadata": {},
     "output_type": "execute_result"
    },
    {
     "data": {
      "image/png": "[encoded data removed]",
      "text/plain": [
       "<Figure size 1152x648 with 1 Axes>"
      ]
     },
     "metadata": {
      "needs_background": "light"
     },
     "output_type": "display_data"
    }
   ],
   "source": [
    "df1 = pd.DataFrame.from_records(mape_records).transpose()\n",
    "df1.columns = symbols\n",
    "df1.plot(figsize=(16,9), xlabel='Number of lagged features', ylabel='MAPE for a multioutput linear model predicting 7 values ahead')"
   ]
  },
  {
   "cell_type": "markdown",
   "id": "6cd30d26-eb05-45fa-be3e-7dbfd3cbbb02",
   "metadata": {},
   "source": [
    "The above plot still sustains our 20 lagged features approach. But, let's do further tests in support for this decision:"
   ]
  },
  {
   "cell_type": "markdown",
   "id": "167d3fe0-c6a0-4de4-bf53-e28bd7faf6b1",
   "metadata": {},
   "source": [
    "<a id='how_much_data'></a>"
   ]
  },
  {
   "cell_type": "markdown",
   "id": "fc96aa5e-9498-460d-8df0-8c5f6658302b",
   "metadata": {},
   "source": [
    "## How much train data do we need?\n",
    "\n",
    "Here, again, we try to compromise between two facts of intuition:\n",
    "\n",
    "On one hand, on stocks having a clear trand we would likely want a long time series to capture the long trend.\n",
    "\n",
    "On the other hand, irregular noisy time series will extract little information from a long time series.\n",
    "\n",
    "So far we used all the data history from yahoo which of course has different lenghts for different stocks.\n",
    "\n",
    "Let's see how the mean absolute percentage error (mape) changes when picking random periods of 1 to 10 years in length respectively from the history of a stock. We repeat this random selection 30 times.\n",
    "\n",
    "We'll repeat the above process 10 times for GOOG which looks to be a more stable stock, and compare it with TSLA which appears to have more variability."
   ]
  },
  {
   "cell_type": "code",
   "execution_count": 39,
   "id": "3dd93ff6-26d5-4535-8401-5954b6e0874f",
   "metadata": {},
   "outputs": [
    {
     "name": "stdout",
     "output_type": "stream",
     "text": [
      " 1 0.030\n",
      " 2 0.027\n",
      " 3 0.024\n",
      " 4 0.024\n",
      " 5 0.021\n",
      " 6 0.020\n",
      " 7 0.022\n",
      " 8 0.019\n",
      " 9 0.016\n",
      "10 0.019\n",
      "CPU times: user 42.4 s, sys: 828 ms, total: 43.2 s\n",
      "Wall time: 5.42 s\n"
     ]
    }
   ],
   "source": [
    "%%time\n",
    "random.seed(313)\n",
    "\n",
    "symbol = 'GOOG'\n",
    "symbol_data = get_symbol_data(symbol, start_date='2000-01-01')\n",
    "symbol_data = symbol_data.rename(columns={'High':'h', 'Low':'l', 'Open':'o', 'Close':'c', 'Volume':'v', 'Adj Close':'ac'})\n",
    "\n",
    "mape_values = {k:list() for k in range(1,11)}\n",
    "for i in range(30):\n",
    "    for period in range(1, 11):\n",
    "        # choose a random start; reserve at least 252*period at the end of the time series\n",
    "        # 252 is roughly the length of a trading year in days\n",
    "        start = random.choice(range(len(symbol_data.iloc[:-252*period])))\n",
    "        mape_values[period].append(make_mape(symbol_data.iloc[start:start+252*period], n_in=19, n_out=7))\n",
    "\n",
    "for year in range(1,11):\n",
    "    print('{:2} {:.3f}'.format(year, mean(mape_values[year])))"
   ]
  },
  {
   "cell_type": "markdown",
   "id": "206b078a-8590-4ea8-9ffd-19b8da6738eb",
   "metadata": {},
   "source": [
    "For GOOG, the longer the better it seems. A 9 year period produces the best outcome, but of course this is a random simulation so with a different random seed, the outcome will likely be different. Let's look at another symbol, TSLA:"
   ]
  },
  {
   "cell_type": "code",
   "execution_count": 40,
   "id": "bd38b166-68f7-4bab-90ad-102a2ec5ac31",
   "metadata": {},
   "outputs": [
    {
     "name": "stdout",
     "output_type": "stream",
     "text": [
      " 1 0.043\n",
      " 2 0.050\n",
      " 3 0.046\n",
      " 4 0.036\n",
      " 5 0.051\n",
      " 6 0.061\n",
      " 7 0.052\n",
      " 8 0.060\n",
      " 9 0.064\n",
      "10 0.060\n",
      "CPU times: user 43.4 s, sys: 732 ms, total: 44.2 s\n",
      "Wall time: 5.53 s\n"
     ]
    }
   ],
   "source": [
    "%%time\n",
    "random.seed(313)\n",
    "\n",
    "symbol = 'TSLA'\n",
    "symbol_data = get_symbol_data(symbol, start_date='2000-01-01')\n",
    "symbol_data = symbol_data.rename(columns={'High':'h', 'Low':'l', 'Open':'o', 'Close':'c', 'Volume':'v', 'Adj Close':'ac'})\n",
    "\n",
    "mape_values = {k:list() for k in range(1,11)}\n",
    "for i in range(30):\n",
    "    for period in range(1, 11):\n",
    "        # choose a random start; reserve at least 252*period at the end of the time series\n",
    "        start = random.choice(range(len(symbol_data.iloc[:-252*period])))\n",
    "        mape_values[period].append(make_mape(symbol_data.iloc[start:start+252*period], n_in=19, n_out=7))\n",
    "\n",
    "for year in range(1,11):\n",
    "    print('{:2} {:.3f}'.format(year, mean(mape_values[year])))"
   ]
  },
  {
   "cell_type": "markdown",
   "id": "1c1dfcbe-a461-499d-b182-557650ccabff",
   "metadata": {},
   "source": [
    "For TSLA more history data tends to amplify the prediction error, sustaining the idea of TSLA containing more randomness than GOOG, thus being harder to predict.\n",
    "\n",
    "Let's see if we look at a sample of 10 arbitrary stocks:"
   ]
  },
  {
   "cell_type": "code",
   "execution_count": 41,
   "id": "a232255c-9ae0-434c-ac9a-e12ca119ba5f",
   "metadata": {},
   "outputs": [
    {
     "name": "stdout",
     "output_type": "stream",
     "text": [
      "['RDWR', 'ARGX', 'FLNG', 'VALN', 'ALHC', 'BBL', 'LII', 'FANG', 'INFO', 'FOCS']\n"
     ]
    }
   ],
   "source": [
    "random.seed(313)\n",
    "symbols = random.sample(symbols_data['Symbol'].to_list(), 10)\n",
    "print(symbols)"
   ]
  },
  {
   "cell_type": "code",
   "execution_count": 42,
   "id": "68e9a0ff-48f6-4caa-9b5e-945531cbc234",
   "metadata": {},
   "outputs": [
    {
     "name": "stdout",
     "output_type": "stream",
     "text": [
      "RDWR  0.039  0.038  0.035  0.028  0.035  0.030  0.034  0.033  0.023  0.025  \n",
      "ARGX  0.054  0.041  0.040  0.034  \n",
      "FLNG  0.054  0.035  \n",
      "VALN  \n",
      "ALHC  \n",
      "BBL   0.036  0.036  0.040  0.039  0.038  0.032  0.035  0.037  0.027  0.029  \n",
      "LII   0.036  0.027  0.025  0.028  0.023  0.023  0.031  0.024  0.023  0.024  \n",
      "FANG  0.055  0.051  0.029  0.038  0.047  0.074  0.052  0.051  0.034  \n",
      "INFO  0.024  0.018  0.021  0.018  0.028  0.016  0.017  \n",
      "FOCS  0.048  0.039  0.031  \n",
      "CPU times: user 3min 50s, sys: 4.31 s, total: 3min 54s\n",
      "Wall time: 29.4 s\n"
     ]
    }
   ],
   "source": [
    "%%time\n",
    "\n",
    "symbols_mape_values = {}\n",
    "for symbol in symbols:\n",
    "    symbol_data = get_symbol_data(symbol, start_date='2000-01-01')\n",
    "    symbol_data = symbol_data.rename(columns={'High':'h', 'Low':'l', 'Open':'o', 'Close':'c', 'Volume':'v', 'Adj Close':'ac'})\n",
    "\n",
    "    mape_values = {k:list() for k in range(1,11)}\n",
    "    for i in range(30):\n",
    "        for period in range(1, 11):\n",
    "            try:\n",
    "                # choose a random start; reserve at least 252*period at the end of the time series\n",
    "                start = random.choice(range(len(symbol_data.iloc[:-252*period])))\n",
    "                mape_values[period].append(make_mape(symbol_data.iloc[start:start+252*period], n_in=20, n_out=7))\n",
    "            except:\n",
    "                continue\n",
    "    symbols_mape_values[symbol] = mape_values\n",
    "\n",
    "yearly_error_means = { k:list() for k in range(1,11) }\n",
    "for symbol in symbols:\n",
    "    print('{:6}'.format(symbol), end='')\n",
    "    for k in mape_values:\n",
    "        try:\n",
    "            print('{:.3f}  '.format(mean(symbols_mape_values[symbol][k])), end='')\n",
    "            yearly_error_means[k].append(mean(symbols_mape_values[symbol][k]))\n",
    "        except:\n",
    "            continue\n",
    "    print()"
   ]
  },
  {
   "cell_type": "markdown",
   "id": "35eacea9-97e0-4d98-857a-9a5a4a54a4d3",
   "metadata": {},
   "source": [
    "And the average error per year for the combine 10 stocks above:"
   ]
  },
  {
   "cell_type": "code",
   "execution_count": 43,
   "id": "c145ed53-673a-4e0b-afcb-6043657b2c3c",
   "metadata": {},
   "outputs": [
    {
     "name": "stdout",
     "output_type": "stream",
     "text": [
      "ymean 0.043  0.035  0.032  0.031  0.034  0.035  0.034  0.036  0.027  0.026  "
     ]
    }
   ],
   "source": [
    "print('{:6}'.format('ymean'), end='')\n",
    "for y in range(1, 11):\n",
    "    print('{:.3f}  '.format(mean(yearly_error_means[y])), end='')"
   ]
  },
  {
   "cell_type": "markdown",
   "id": "2f2ed73c-a9f2-4c70-9797-eb247429a4a4",
   "metadata": {},
   "source": [
    "The data above provides anecdotic evidence that a group of stocks may start capturing market trend data. In this context, more data tend to fair better. In our sample above, using data from the last 10 years produced the lowest absolute percentage error at 2.6%."
   ]
  },
  {
   "cell_type": "markdown",
   "id": "f299bbde-0920-441d-bef1-677392db6bbe",
   "metadata": {},
   "source": [
    "<a id='test_all'></a>"
   ]
  },
  {
   "cell_type": "markdown",
   "id": "b58c96de-425b-4777-baa5-205f7381347f",
   "metadata": {},
   "source": [
    "## Test (almost) all the data\n",
    "\n",
    "For this section we downloaded all available data from Yahoo Finance for all the stocks having a market valuation of $1bn or more. This takes a considerable amont of time, close to 3 hours, so it is difficult to replicate, but we feel it is worth presenting the results nevertheless.\n",
    "\n",
    "The code to download the respective data is (uncomment and run it replicate the results below):"
   ]
  },
  {
   "cell_type": "code",
   "execution_count": 44,
   "id": "342c8708-9b51-46c6-896d-b2d1acb48e3e",
   "metadata": {
    "tags": []
   },
   "outputs": [],
   "source": [
    "# %%time\n",
    "# for symbol in symbols_data['Symbol']:\n",
    "#     get_symbol_data(symbol, start_date='1900-01-01')"
   ]
  },
  {
   "cell_type": "markdown",
   "id": "4bbe6190-55cb-416f-9f78-22f5e74f5476",
   "metadata": {},
   "source": [
    "Next, for each stock symbol we pick an arbitrary start training period of 1 to 10 years (if it exists), fit a linear model and calculate the mean absolute percentage error for predicting 7 days in advance the stock's adjusted close value. We repeat this random proces 10 times for each stock. Then, we average the errors for each period of 1 to 10 years and present the results."
   ]
  },
  {
   "cell_type": "code",
   "execution_count": 45,
   "id": "6fdc55ad-d42f-4045-8fcb-93532c3375fd",
   "metadata": {},
   "outputs": [
    {
     "name": "stdout",
     "output_type": "stream",
     "text": [
      "CPU times: user 48min 27s, sys: 55.7 s, total: 49min 23s\n",
      "Wall time: 6min 11s\n"
     ]
    }
   ],
   "source": [
    "%%time\n",
    "\n",
    "random.seed(313)\n",
    "\n",
    "all_symbols_mape_values = {}\n",
    "for symbol in symbols_data['Symbol'].to_list():\n",
    "    try:\n",
    "        symbol_filename = 'data/{0}.pickle'.format(symbol)\n",
    "        symbol_data = pickle.load(open(symbol_filename, 'rb'))\n",
    "    except:\n",
    "        continue\n",
    "        \n",
    "    symbol_data = symbol_data.rename(columns={'High':'h', 'Low':'l', 'Open':'o', 'Close':'c', 'Volume':'v', 'Adj Close':'ac'})\n",
    "\n",
    "    mape_values = { k:list() for k in range(1,11) }\n",
    "    for period in range(1, 11):\n",
    "        try:\n",
    "            # choose a random start; reserve at least 252*period at the end of the time series\n",
    "            start = random.choice(range(len(symbol_data.iloc[:-252*period])))\n",
    "            mape_values[period].append(make_mape(symbol_data.iloc[start:start+252*period], n_in=20, n_out=7))\n",
    "        except:\n",
    "            continue\n",
    "    all_symbols_mape_values[symbol] = mape_values"
   ]
  },
  {
   "cell_type": "code",
   "execution_count": 46,
   "id": "b8e20c36-e33a-4e29-91e2-6229a52b5e73",
   "metadata": {},
   "outputs": [
    {
     "name": "stdout",
     "output_type": "stream",
     "text": [
      "ymean 0.048  0.044  0.038  0.037  0.037  0.035  0.035  0.034  0.034  0.033  "
     ]
    }
   ],
   "source": [
    "# calculate the average error per year\n",
    "yearly_error_means = { k:list() for k in range(1,11) }\n",
    "for symbol in symbols_data['Symbol'].to_list():\n",
    "    # print('{:6}'.format(symbol), end='')\n",
    "    for k in range(1, 11):\n",
    "        try:\n",
    "            # print('{:.3f}  '.format(mean(all_symbols_mape_values[symbol][k])), end='')\n",
    "            yearly_error_means[k].append(mean(all_symbols_mape_values[symbol][k]))\n",
    "        except:\n",
    "            continue\n",
    "\n",
    "print('{:6}'.format('ymean'), end='')\n",
    "for y in range(1, 11):\n",
    "    print('{:.3f}  '.format(mean(yearly_error_means[y])), end='')"
   ]
  },
  {
   "cell_type": "markdown",
   "id": "656ba388-84c5-4430-86c9-6d7f3b03a7e3",
   "metadata": {},
   "source": [
    "Working with the whole market data shows a clear trend: the longer the better. This observation is in accordance with the fact that the market has a long trend of increasing its value by about 10% per year.\n",
    "\n",
    "There is a significant error decrease jumping from 1 to 2 years worth of data. After that there is progressive improvement but smaller and smaller as the history increases.\n",
    "\n",
    "One last test is presented below: for each stock and using the most recent data, we train and predict 7 values in \"future\" using 1, 2, and up to 10 years of historic data. We than average the results per year and display the results."
   ]
  },
  {
   "cell_type": "code",
   "execution_count": 47,
   "id": "fbc4dec7-6826-45d0-81f6-f96430fc5a25",
   "metadata": {},
   "outputs": [
    {
     "name": "stdout",
     "output_type": "stream",
     "text": [
      "CPU times: user 1h 4min 12s, sys: 1min 13s, total: 1h 5min 25s\n",
      "Wall time: 8min 11s\n"
     ]
    }
   ],
   "source": [
    "%%time\n",
    "\n",
    "all_symbols_mape_values = {}\n",
    "for symbol in symbols_data['Symbol'].to_list():\n",
    "    try:\n",
    "        symbol_filename = 'data/{0}.pickle'.format(symbol)\n",
    "        symbol_data = pickle.load(open(symbol_filename, 'rb'))\n",
    "    except:\n",
    "        continue\n",
    "        \n",
    "    symbol_data = symbol_data.rename(columns={'High':'h', 'Low':'l', 'Open':'o', 'Close':'c', 'Volume':'v', 'Adj Close':'ac'})\n",
    "\n",
    "    mape_values = { k:list() for k in range(1,11) }\n",
    "    for period in range(1, 11):\n",
    "        try:\n",
    "            # choose a start moment 1, 2, ... 10 years back from the current moment\n",
    "            start = -252*period\n",
    "            mape_values[period].append(make_mape(symbol_data.iloc[start:], n_in=20, n_out=7))\n",
    "        except:\n",
    "            continue\n",
    "    all_symbols_mape_values[symbol] = mape_values"
   ]
  },
  {
   "cell_type": "code",
   "execution_count": 48,
   "id": "4b028d0d-16aa-496e-8889-3083829d37f1",
   "metadata": {},
   "outputs": [
    {
     "name": "stdout",
     "output_type": "stream",
     "text": [
      "ymean 0.054  0.049  0.049  0.048  0.048  0.048  0.048  0.048  0.048  0.048  "
     ]
    }
   ],
   "source": [
    "yearly_error_means = { k:list() for k in range(1,11) }\n",
    "for symbol in symbols_data['Symbol'].to_list():\n",
    "    # print('{:6}'.format(symbol), end='')\n",
    "    for k in range(1, 11):\n",
    "        try:\n",
    "            # print('{:.3f}  '.format(mean(all_symbols_mape_values[symbol][k])), end='')\n",
    "            yearly_error_means[k].append(mean(all_symbols_mape_values[symbol][k]))\n",
    "        except:\n",
    "            continue\n",
    "\n",
    "print('{:6}'.format('ymean'), end='')\n",
    "for y in range(1, 11):\n",
    "    print('{:.3f}  '.format(mean(yearly_error_means[y])), end='')"
   ]
  },
  {
   "cell_type": "markdown",
   "id": "aef12728-1564-46f0-aeb6-664c0357f3ec",
   "metadata": {},
   "source": [
    "Again, working with most of the market data shows a good improvement after the first year, and practically reaching a flat plateau immediately after, but still showing a trend of improvement with more history used for training. \n",
    "\n",
    "Arguably, it is not worth training on a data set longer than a year and maybe no longer than 3 or 4 years. This is consistent with our previous randomised test above. \n",
    "\n",
    "What is really surprising is that the long term average 7 days prediction absolute percentage error is exactly just under 5% - coinciding with the objective of this homework. Is this maybe a systemic property of the stock market when aproached with simple analisys tools?"
   ]
  },
  {
   "cell_type": "markdown",
   "id": "35dee3e3-ba93-43d2-9e27-d8bad285501d",
   "metadata": {},
   "source": [
    "<a id='conclusion'></a>"
   ]
  },
  {
   "cell_type": "markdown",
   "id": "40d269c9-74fd-4678-9e44-613123179514",
   "metadata": {},
   "source": [
    "## Conclusion\n",
    "\n",
    "We have shown that on average, the Nasdaq stock market can be predicted with a simple linear model which learns from the past 20 values of the Adjusted Close metric.\n",
    "\n",
    "An average of under 5% absolute percentage error can be expected by predicting the next 7 days Adjusted Close values using at leat one year of history data.\n",
    "\n",
    "This work also hints that significantly improving the 5% error margin, to say, below 3% is out of reach using the method above.\n",
    "\n",
    "Where's money there is skewness and we saw this as well here, by noticing that about a third of the listed Nasdaq stocks make practically the whole marked with over 98% of the total Nasdaq market value."
   ]
  },
  {
   "cell_type": "markdown",
   "id": "554d9d0b-0944-4b24-825a-5682413d4ee2",
   "metadata": {},
   "source": [
    "<a id='external_links'></a>"
   ]
  },
  {
   "cell_type": "markdown",
   "id": "15d1d57b-1879-4abe-adba-47b30573030d",
   "metadata": {},
   "source": [
    "## External links"
   ]
  },
  {
   "cell_type": "markdown",
   "id": "0f400405-6de0-4000-9e42-5ef69b33391e",
   "metadata": {},
   "source": [
    "<a id='itcp'></a>"
   ]
  },
  {
   "cell_type": "markdown",
   "id": "98d29826-8a34-4e13-a426-71f856930ac1",
   "metadata": {},
   "source": [
    "Udacity MLND Capstone Project Description - Investment and Trading https://docs.google.com/document/d/1ycGeb1QYKATG6jvz74SAMqxrlek9Ed4RYrzWNhWS-0Q/pub"
   ]
  },
  {
   "cell_type": "markdown",
   "id": "e53e0908-21b2-4900-8cf1-f1db08632cff",
   "metadata": {},
   "source": [
    "<a id='random_walks'></a>"
   ]
  },
  {
   "cell_type": "markdown",
   "id": "24e6ece2-22c7-46ea-b953-4ba3424c19db",
   "metadata": {},
   "source": [
    "Wikipedia Random Walks for stock prices https://en.wikipedia.org/wiki/Random_walk_hypothesishttps://en.wikipedia.org/wiki/Random_walk_hypothesis"
   ]
  },
  {
   "cell_type": "markdown",
   "id": "b3f1961b-eec0-448c-8cd3-5cda40a1903f",
   "metadata": {},
   "source": [
    "<a id='brownian_motion'></a>"
   ]
  },
  {
   "cell_type": "markdown",
   "id": "6b9a78c2-c1c9-4003-8a13-94004854a08b",
   "metadata": {},
   "source": [
    "Wikipedia Geometric Brownian motion https://en.wikipedia.org/wiki/Geometric_Brownian_motion"
   ]
  },
  {
   "cell_type": "markdown",
   "id": "d4f06a20-4ce9-4b14-b605-f23525905a0a",
   "metadata": {
    "tags": []
   },
   "source": [
    "<a id='asr_1'></a>"
   ]
  },
  {
   "cell_type": "markdown",
   "id": "b459401e-5d1c-4506-8b71-4a7f4a47724b",
   "metadata": {},
   "source": [
    "What Is the Average Stock Market Return? https://www.nerdwallet.com/article/investing/average-stock-market-return"
   ]
  },
  {
   "cell_type": "markdown",
   "id": "e5359381-6022-4378-a133-feb998633c27",
   "metadata": {
    "tags": []
   },
   "source": [
    "<a id='asr_2'></a>"
   ]
  },
  {
   "cell_type": "markdown",
   "id": "57082a14-ea5d-49a9-8b0f-b6fab86ca4af",
   "metadata": {},
   "source": [
    "Average Stock Market Return https://www.fool.com/investing/how-to-invest/stocks/average-stock-market-return/"
   ]
  },
  {
   "cell_type": "markdown",
   "id": "3cc4254a-01d2-4260-a11f-147bd841a26c",
   "metadata": {
    "tags": []
   },
   "source": [
    "<a id='yfinance'></a>"
   ]
  },
  {
   "cell_type": "markdown",
   "id": "b8cec94c-6204-4cf4-b659-951a974d7585",
   "metadata": {},
   "source": [
    "Download historical data in Yahoo Finance https://help.yahoo.com/kb/SLN2311.htmlAverage "
   ]
  },
  {
   "cell_type": "markdown",
   "id": "5beb4f54-63b5-49ea-befe-36c9fee8a961",
   "metadata": {
    "tags": []
   },
   "source": [
    "<a id='ts_as_supervised_learning'></a>"
   ]
  },
  {
   "cell_type": "markdown",
   "id": "3d7ce179-055c-4364-b243-13fa41bf2e7c",
   "metadata": {},
   "source": [
    "How to Convert a Time Series to a Supervised Learning Problem in Python https://machinelearningmastery.com/convert-time-series-supervised-learning-problem-python/"
   ]
  },
  {
   "cell_type": "markdown",
   "id": "7ed85961-5aab-4aa3-8bb4-3af3f8a038ce",
   "metadata": {},
   "source": [
    "<a id='nasdaq_stock_symbols'></a>"
   ]
  },
  {
   "cell_type": "markdown",
   "id": "2b0edabd-94c0-4b4d-b2e6-a54b153a2f5d",
   "metadata": {},
   "source": [
    "Nasdaq stock symbols https://www.nasdaq.com/market-activity/stocks/screener"
   ]
  }
 ],
 "metadata": {
  "kernelspec": {
   "display_name": "Python 3",
   "language": "python",
   "name": "python3"
  },
  "language_info": {
   "codemirror_mode": {
    "name": "ipython",
    "version": 3
   },
   "file_extension": ".py",
   "mimetype": "text/x-python",
   "name": "python",
   "nbconvert_exporter": "python",
   "pygments_lexer": "ipython3",
   "version": "3.7.7"
  }
 },
 "nbformat": 4,
 "nbformat_minor": 5
}
